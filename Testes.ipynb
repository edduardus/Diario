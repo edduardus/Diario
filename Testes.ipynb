{
 "cells": [
  {
   "cell_type": "code",
   "execution_count": 1,
   "metadata": {},
   "outputs": [],
   "source": [
    "import re\n",
    "\n",
    "def cleanhtml(raw_html):\n",
    "  cleanr = re.compile('<.*?>')\n",
    "  cleantext = re.sub(cleanr, '', raw_html)\n",
    "  return cleantext"
   ]
  },
  {
   "cell_type": "code",
   "execution_count": 2,
   "metadata": {},
   "outputs": [],
   "source": [
    "strTeste ='''\n",
    "<div id=\"search-box-filters-container\" class=\"c-search-box_filters\" style=\"display:none;\">\n",
    "<div class=\"c-search-box_filtersSection\"><p class=\"c-search-box_filtersTitle\">\n",
    "Pesquisar em\n",
    "</p>\n",
    "<ul class=\"c-search-box_filtersOptions\">\n",
    "<li class=\"c-search-box_filtersOption\">\n",
    "<button type=\"button\" class=\"c-search-box_filtersButton v--text-semi-bold v--active\" data-category=\"p\">\n",
    "Pessoas\n",
    "</button>\n",
    "</li>\n",
    "<li class=\"c-search-box_filtersOption\">\n",
    "<button type=\"button\" class=\"c-search-box_filtersButton v--text-semi-bold \" data-category=\"i\">\n",
    "Empresas\n",
    "</button>\n",
    "</li>\n",
    "<li class=\"c-search-box_filtersOption\">\n",
    "<button type=\"button\" class=\"c-search-box_filtersButton v--text-semi-bold \" data-category=\"d\">\n",
    "Diários Oficiais\n",
    "</button>\n",
    "</li>\n",
    "<li class=\"c-search-box_filtersOption\">\n",
    "<button type=\"button\" class=\"c-search-box_filtersButton v--text-semi-bold \" data-category=\"en\">\n",
    "Partes em Processos\n",
    "</button>\n",
    "</li>\n",
    "<li class=\"c-search-box_filtersOption\">\n",
    "<button type=\"button\" class=\"c-search-box_filtersButton v--text-semi-bold \" data-category=\"jr\">\n",
    "Jurisprudência\n",
    "</button>\n",
    "</li>\n",
    "<li class=\"c-search-box_filtersOption\">\n",
    "<button type=\"button\" class=\"c-search-box_filtersButton v--text-semi-bold \" data-category=\"leis\">\n",
    "Legislação\n",
    "</button>\n",
    "</li>\n",
    "</ul>\n",
    "</div>\n",
    "<div id=\"search-box-filters\" class=\"c-search-box_filtersSection\" style=\"display:none;\"><p class=\"c-search-box_filtersTitle\">\n",
    "Recentes\n",
    "</p>\n",
    "<ul class=\"c-search-box_filtersHistory\">\n",
    "</ul>\n",
    "</div>\n",
    "</div>\n",
    "</form>\n",
    "</div>\n",
    "</div>\n",
    "</li>\n",
    "<li class=\"item c-navbar_menuRight c-hide-at v--mediumAndBelow v--spacing-right\">\n",
    "<div class=\"has-popover\" data-popover=\"solutions\">\n",
    "<a class=\"c-navbar_menuItem\" href=\"https://www.escavador.com\" title=\"Página inicial do Escavador\" data-action=\"show-popover\" data-popover-target=\"solutions\">\n",
    "<span>Soluções</span>\n",
    "<svg xmlns=\"http://www.w3.org/2000/svg\" width=\"16\" height=\"16\" viewBox=\"0 0 24 24\" fill=\"none\" stroke=\"currentColor\" stroke-width=\"2\" stroke-linecap=\"round\" stroke-linejoin=\"round\" class=\"feather feather-chevron-down\">\n",
    "<polyline points=\"6 9 12 15 18 9\"></polyline>\n",
    "</svg>\n",
    "</a>\n",
    "<div class=\"c-popover\" data-action=\"show-popover\" data-popover-target=\"solutions\">\n",
    "<div class=\"c-popover_inner\">\n",
    "<div class=\"c-popover_title\">\n",
    "Soluções\n",
    "</div>\n",
    "<nav>\n",
    "<ul class=\"c-popover_menu v--auto-width\">\n",
    "<li>\n",
    "<a class=\"c-popover_menu-item\" href=\"https://www.escavador.com/solucoes/acompanhamento-processual\">Monitoramento de processos</a>\n",
    "</li>\n",
    "<li>\n",
    "<a class=\"c-popover_menu-item\" href=\"https://monitoramentos.escavador.com/sobre\">Monitoramento de Diários Oficiais</a>\n",
    "</li>\n",
    "<li>\n",
    "<a class=\"c-popover_menu-item\" href=\"https://api.escavador.com\">Integração (API)</a>\n",
    "</li>\n",
    "</ul>\n",
    "</nav>\n",
    "</div>\n",
    "</div>\n",
    "</div>\n",
    "<a class=\"c-navbar_menuItem c-hide-at v--largeAndBelow\" href=\"https://www.escavador.com/precos\" title=\"Página inicial do Escavador\">\n",
    "Preços\n",
    "</a>\n",
    "</li>\n",
    "<li class=\"item c-navbar_menuRight hide-on-search-box-open v--no-spacing\">\n",
    "<a href=\"https://monitoramentos.escavador.com/novo?ref=ClicouBotaoNavBar&origem_criacao=BOTAO_CRIAR_MONITORAMENTO_NAVBAR\" class=\"c-navbar_menuItem v--text-bold v--highlight v--spacing-right v--spacing-left c-hide-at v--small\">\n",
    "Criar monitoramento\n",
    "</a>\n",
    "<span class=\"c-hide-at v--large\">\n",
    "<a id=\"mobile-search-btn\" class=\"c-navbar_menuItem v--hover v--focus v--text-bold v--rounded\" data-action=\"open-search-box-on-mobile\" href=\"#\">\n",
    "<svg xmlns=\"http://www.w3.org/2000/svg\" width=\"20\" height=\"20\" viewBox=\"0 0 24 24\" fill=\"none\" stroke=\"currentColor\" stroke-width=\"2\" stroke-linecap=\"round\" stroke-linejoin=\"round\" class=\"feather feather-search\"><circle cx=\"11\" cy=\"11\" r=\"8\"></circle>\n",
    "<line x1=\"21\" y1=\"21\" x2=\"16.65\" y2=\"16.65\"></line>\n",
    "</svg>\n",
    "</a>\n",
    "</span>\n",
    "\n",
    "<span class=\"c-hide-at v--small\">\n",
    "<a href=\"https://www.escavador.com/login\" class=\"c-navbar_menuItem v--text-bold\" data-v-4fc2681e=\"\">\n",
    "Entrar/Cadastrar\n",
    "</a>\n",
    "</span>\n",
    "'''"
   ]
  },
  {
   "cell_type": "code",
   "execution_count": 3,
   "metadata": {},
   "outputs": [
    {
     "data": {
      "text/plain": [
       "'\\n\\n\\nPesquisar em\\n\\n\\n\\n\\nPessoas\\n\\n\\n\\n\\nEmpresas\\n\\n\\n\\n\\nDiários Oficiais\\n\\n\\n\\n\\nPartes em Processos\\n\\n\\n\\n\\nJurisprudência\\n\\n\\n\\n\\nLegislação\\n\\n\\n\\n\\n\\nRecentes\\n\\n\\n\\n\\n\\n\\n\\n\\n\\n\\n\\n\\nSoluções\\n\\n\\n\\n\\n\\n\\n\\nSoluções\\n\\n\\n\\n\\nMonitoramento de processos\\n\\n\\nMonitoramento de Diários Oficiais\\n\\n\\nIntegração (API)\\n\\n\\n\\n\\n\\n\\n\\nPreços\\n\\n\\n\\n\\nCriar monitoramento\\n\\n\\n\\n\\n\\n\\n\\n\\n\\n\\n\\nEntrar/Cadastrar\\n\\n\\n'"
      ]
     },
     "execution_count": 3,
     "metadata": {},
     "output_type": "execute_result"
    }
   ],
   "source": [
    "cleanhtml(strTeste)"
   ]
  },
  {
   "cell_type": "code",
   "execution_count": 4,
   "metadata": {},
   "outputs": [],
   "source": [
    "import bs4\n",
    "\n",
    "dia=\"2020-04-17\"\n",
    "pagina=2\n",
    "with open(\"./dados_brutos_html/dia_{}_pagina_{}.html\".format(dia,pagina),'r+',encoding=\"utf-8\") as inp:\n",
    "    page_html = inp.read()\n",
    "    parsed = bs4.BeautifulSoup(page_html,\"html.parser\")\n",
    "    tags=parsed.find_all(\"div\",attrs={\"class\":\"conteudoMonitoravel ocr-text\"}) #busca todas as tags para as próximas páginas do dia. Logo o número total de páginas será igual ao número de links\n",
    "    total_pag_dia=len(tags)"
   ]
  },
  {
   "cell_type": "code",
   "execution_count": 5,
   "metadata": {},
   "outputs": [
    {
     "data": {
      "text/plain": [
       "1"
      ]
     },
     "execution_count": 5,
     "metadata": {},
     "output_type": "execute_result"
    }
   ],
   "source": [
    "total_pag_dia"
   ]
  },
  {
   "cell_type": "code",
   "execution_count": 7,
   "metadata": {},
   "outputs": [
    {
     "data": {
      "text/plain": [
       "<div class=\"conteudoMonitoravel ocr-text\" id=\"conteudo-texto\" v-pre=\"\">\n",
       "<html><body><p><font style=\"font-size:xx-large;font-family:Arial, sans-serif;color:#231F20;\">2</font></p> <p style=\"padding:7pt 0pt 0pt 0pt;\"><font style=\"font-size:xx-large;font-family:Arial, sans-serif;\">2</font><font style=\"font-size:small;font-family:Arial, sans-serif;color:#231F20;\"> ANO XLVI - N<sup>0</sup> 070 - PARTE IV A A T</font></p> <p style=\"text-indent:25pt;\"><font style=\"font-size:small;font-family:Arial, sans-serif;color:#231F20;\">SEXTA-FEIRA - 17 DE ABRIL DE 2020 </font><font style=\"font-size:medium;font-family:Times New Roman, serif;font-weight:bold;color:#231F20;\">DIÁRIO W OFICIAL </font><font style=\"font-size:medium;font-family:Arial, sans-serif;color:#231F20;\"><sub>MUNICIPALIDADES</sub></font></p> <p><font style=\"font-size:xx-small;font-family:Times New Roman, serif;font-weight:bold;color:#231F20;\">---------------------------------------------------------------------------------------DO</font><font style=\"font-size:xx-small;font-family:Times New Roman, serif;font-weight:bold;text-decoration:underline;color:#231F20;\"> </font><font style=\"font-size:xx-small;font-family:Times New Roman, serif;font-weight:bold;color:#231F20;\">ESTADO</font><font style=\"font-size:xx-small;font-family:Times New Roman, serif;font-weight:bold;text-decoration:underline;color:#231F20;\"> </font><font style=\"font-size:xx-small;font-family:Times New Roman, serif;font-weight:bold;color:#231F20;\">DO</font><font style=\"font-size:xx-small;font-family:Times New Roman, serif;font-weight:bold;text-decoration:underline;color:#231F20;\"> </font><font style=\"font-size:xx-small;font-family:Times New Roman, serif;font-weight:bold;color:#231F20;\">RIO</font><font style=\"font-size:xx-small;font-family:Times New Roman, serif;font-weight:bold;text-decoration:underline;color:#231F20;\"> </font><font style=\"font-size:xx-small;font-family:Times New Roman, serif;font-weight:bold;color:#231F20;\">DE</font><font style=\"font-size:xx-small;font-family:Times New Roman, serif;font-weight:bold;text-decoration:underline;color:#231F20;\"> </font><font style=\"font-size:xx-small;font-family:Times New Roman, serif;font-weight:bold;color:#231F20;\">JANEIRO---------------------------------------------------------------------------------------</font></p> <p style=\"\"><font style=\"font-size:x-small;font-family:Arial, sans-serif;color:#231F20;\">empresa especializada do ramo de engenharia para execução dos serviços de recuperação de vias e sinalização viária do município de Nilópolis” - </font><font style=\"font-size:x-small;font-family:Arial, sans-serif;text-decoration:underline;color:#231F20;\">LEIA-SE:</font><font style=\"font-size:x-small;font-family:Arial, sans-serif;color:#231F20;\"> “OBJETO: Contratação de empresa para execução dos serviços de recuperação de vias e sinalização viária do município de Nilópolis - RJ”.</font></p> <p style=\"padding:0pt 0pt 5pt 0pt;\"><font style=\"font-size:x-small;font-family:Arial, sans-serif;color:#231F20;\">Nilópolis, 16 de Abril de 2020/Romeu Lima Filho/Coordenador de Licitações e Contratos</font></p> <p style=\"\"><font style=\"font-size:x-small;font-family:Arial, sans-serif;font-weight:bold;color:#231F20;\">Id: 2248297</font></p> <h6><font style=\"font-size:medium;font-family:Times New Roman, serif;font-weight:bold;color:#231F20;\">Município de Pinheiral</font></h6> <p style=\"padding:0pt 0pt 4pt 0pt;\"><font style=\"font-size:small;font-family:Times New Roman, serif;font-weight:bold;color:#231F20;\">PREFEITURA MUNICIPAL</font></p> <p style=\"padding:0pt 0pt 8pt 0pt;\"><font style=\"font-size:x-small;font-family:Arial, sans-serif;font-weight:bold;text-decoration:underline;color:#231F20;\">PREGÃO PRESENCIAL SRP N° 018/2020</font></p> <p style=\"padding:0pt 0pt 11pt 0pt;\"><font style=\"font-size:x-small;font-family:Arial, sans-serif;color:#231F20;\">Objeto: </font><font style=\"font-size:x-small;font-family:Arial, sans-serif;font-weight:bold;color:#231F20;\">Aquisição de Medicamentos e insumos constantes no Guia Farmacêutico Brasíndice; </font><font style=\"font-size:x-small;font-family:Arial, sans-serif;color:#231F20;\">Data/Hora: </font><font style=\"font-size:x-small;font-family:Arial, sans-serif;font-weight:bold;color:#231F20;\">11/05/2020 às 09:30 horas;</font></p> <p style=\"\"><font style=\"font-size:x-small;font-family:Arial, sans-serif;font-weight:bold;color:#231F20;\">Maiores informações e Retirada de Edital: </font><font style=\"font-size:x-small;font-family:Arial, sans-serif;color:#231F20;\">Departamento de Licitações sito a Rua das Acácias, n°. 13 Fundos 2° andar - Bairro: Ipê -Pinheiral. Tel.: (24) 3356-2368 Ramal: 237. E-mail: </font><font style=\"font-size:x-small;font-family:Arial, sans-serif;text-decoration:underline;color:#231F20;\">licitacaopinhei-</font><a href=\"mailto:ral@gmail.com\"><font style=\"font-size:x-small;font-family:Arial, sans-serif;color:#231F20;\">ral@gmail.com</font></a></p> <p style=\"padding:0pt 0pt 4pt 0pt;\"><font style=\"font-size:x-small;font-family:Arial, sans-serif;color:#231F20;\">Pregoeiro Titular</font></p> <p style=\"padding:0pt 0pt 6pt 0pt;\"><font style=\"font-size:x-small;font-family:Arial, sans-serif;font-weight:bold;color:#231F20;\">Id: 2248226</font></p> <p><font style=\"font-size:small;font-family:Times New Roman, serif;font-weight:bold;color:#231F20;\">PREFEITURA MUNICIPAL</font></p> <h6><font style=\"font-size:medium;font-family:Times New Roman, serif;font-weight:bold;color:#231F20;\">Município de Resende</font></h6> <p><font style=\"font-size:x-small;font-family:Arial, sans-serif;font-weight:bold;color:#231F20;\">PREFEITURA </font><font style=\"font-size:x-small;font-family:Arial, sans-serif;font-weight:bold;text-decoration:underline;color:#231F20;\">M</font><font style=\"font-size:x-small;font-family:Arial, sans-serif;font-weight:bold;color:#231F20;\">UNICIPAL DE </font><font style=\"font-size:x-small;font-family:Arial, sans-serif;font-weight:bold;text-decoration:underline;color:#231F20;\">R</font><font style=\"font-size:x-small;font-family:Arial, sans-serif;font-weight:bold;color:#231F20;\">ESENDE</font></p> <p><font style=\"font-size:x-small;font-family:Arial, sans-serif;font-weight:bold;color:#231F20;\">AVISO DE LICITAÇÃO</font></p> <p><font style=\"font-size:x-small;font-family:Arial, sans-serif;font-weight:bold;color:#231F20;\">Pregão Eletrônico n° 47/2020 </font><font style=\"font-size:x-small;font-family:Arial, sans-serif;color:#231F20;\">- Objeto: </font><font style=\"font-size:x-small;font-family:Arial, sans-serif;font-weight:bold;color:#231F20;\">REGISTRO DE PREÇOS de aquisição de biombos em pvc, </font><font style=\"font-size:x-small;font-family:Arial, sans-serif;color:#231F20;\">conforme Edital. </font><font style=\"font-size:x-small;font-family:Arial, sans-serif;font-weight:bold;color:#231F20;\">Data/Hora: 06/05/2020 </font><font style=\"font-size:x-small;font-family:Arial, sans-serif;color:#231F20;\">às </font><font style=\"font-size:x-small;font-family:Arial, sans-serif;font-weight:bold;color:#231F20;\">14:00horas</font><font style=\"font-size:x-small;font-family:Arial, sans-serif;color:#231F20;\">. Processo Administrativo n°: </font><font style=\"font-size:x-small;font-family:Arial, sans-serif;font-weight:bold;color:#231F20;\">28.721/2019 -</font><font style=\"font-size:x-small;font-family:Arial, sans-serif;color:#231F20;\">Valor Estimado: </font><font style=\"font-size:x-small;font-family:Arial, sans-serif;font-weight:bold;color:#231F20;\">R$ 43.500,00</font><font style=\"font-size:x-small;font-family:Arial, sans-serif;color:#231F20;\">.</font><font style=\"font-size:x-small;font-family:Arial, sans-serif;font-weight:bold;color:#231F20;\">Pregão Eletrônico n° 48/2020 </font><font style=\"font-size:x-small;font-family:Arial, sans-serif;color:#231F20;\">- Objeto: </font><font style=\"font-size:x-small;font-family:Arial, sans-serif;font-weight:bold;color:#231F20;\">REGISTRO DE PREÇOS de aquisição de reagente para a realização de exames para triagem de Influenza A e B e COVID-19 com cessão gratuita de dois equipamentos para análise de testes imunológicos por fluorescência utilizando o marcador európi-co, com identificação automática dos testes através de QR code, acessórios (calibradores, controle, swab, papel, fita para impressora etc.), pelo período de 12 (doze) meses,</font><font style=\"font-size:x-small;font-family:Arial, sans-serif;color:#231F20;\">conforme Edital. </font><font style=\"font-size:x-small;font-family:Arial, sans-serif;font-weight:bold;color:#231F20;\">Data/Hora: 06/05/2020 </font><font style=\"font-size:x-small;font-family:Arial, sans-serif;color:#231F20;\">às </font><font style=\"font-size:x-small;font-family:Arial, sans-serif;font-weight:bold;color:#231F20;\">15:00horas</font><font style=\"font-size:x-small;font-family:Arial, sans-serif;color:#231F20;\">. Processo Administrativo n°: </font><font style=\"font-size:x-small;font-family:Arial, sans-serif;font-weight:bold;color:#231F20;\">8.880/2020 - </font><font style=\"font-size:x-small;font-family:Arial, sans-serif;color:#231F20;\">Valor Estimado: </font><font style=\"font-size:x-small;font-family:Arial, sans-serif;font-weight:bold;color:#231F20;\">R$ 334.000,00.Pregão Eletrônico n° 50/2020 </font><font style=\"font-size:x-small;font-family:Arial, sans-serif;color:#231F20;\">- Objeto: </font><font style=\"font-size:x-small;font-family:Arial, sans-serif;font-weight:bold;color:#231F20;\">REGISTRO DE PREÇOS de aquisição de medicamento, </font><font style=\"font-size:x-small;font-family:Arial, sans-serif;color:#231F20;\">conforme Edital. </font><font style=\"font-size:x-small;font-family:Arial, sans-serif;font-weight:bold;color:#231F20;\">Data/Hora: 07/05/2020 </font><font style=\"font-size:x-small;font-family:Arial, sans-serif;color:#231F20;\">às </font><font style=\"font-size:x-small;font-family:Arial, sans-serif;font-weight:bold;color:#231F20;\">14:00horas</font><font style=\"font-size:x-small;font-family:Arial, sans-serif;color:#231F20;\">.</font></p> <p style=\"padding:0pt 0pt 5pt 0pt;\"><font style=\"font-size:x-small;font-family:Arial, sans-serif;color:#231F20;\">Processo Administrativo n°: </font><font style=\"font-size:x-small;font-family:Arial, sans-serif;font-weight:bold;color:#231F20;\">2.713/2020 - </font><font style=\"font-size:x-small;font-family:Arial, sans-serif;color:#231F20;\">Valor Estimado: </font><font style=\"font-size:x-small;font-family:Arial, sans-serif;font-weight:bold;color:#231F20;\">R$ 43.432,80. </font><font style=\"font-size:x-small;font-family:Arial, sans-serif;color:#231F20;\">Edital disponível no site: </font><font style=\"font-size:x-small;font-family:Arial, sans-serif;text-decoration:underline;color:#231F20;\">h ttp: //www. re sen d e. rj. g o v. br/bl o g -transparencia</font><font style=\"font-size:x-small;font-family:Arial, sans-serif;color:#231F20;\">. Informações e questionamentos: Contato e-mail: </font><a href=\"mailto:licita-caosaude.resende@gmail.com\"><font style=\"font-size:x-small;font-family:Arial, sans-serif;color:#231F20;\">licita-caosaude.resende@gmail.com</font></a><font style=\"font-size:x-small;font-family:Arial, sans-serif;color:#231F20;\"> - Tel.: (0XX24) 3354-3922. Julio Cezar de Carvalho - Superintendente Municipal de Licitações e Contratos.</font></p> <p style=\"padding:0pt 0pt 5pt 0pt;\"><font style=\"font-size:x-small;font-family:Arial, sans-serif;font-weight:bold;color:#231F20;\">Id: 2248320</font></p> <p style=\"padding:0pt 0pt 5pt 0pt;\"><font style=\"font-size:x-small;font-family:Arial, sans-serif;font-weight:bold;color:#231F20;\">PREFEITURA </font><font style=\"font-size:x-small;font-family:Arial, sans-serif;font-weight:bold;text-decoration:underline;color:#231F20;\">M</font><font style=\"font-size:x-small;font-family:Arial, sans-serif;font-weight:bold;color:#231F20;\">UNICIPAL DE </font><font style=\"font-size:x-small;font-family:Arial, sans-serif;font-weight:bold;text-decoration:underline;color:#231F20;\">R</font><font style=\"font-size:x-small;font-family:Arial, sans-serif;font-weight:bold;color:#231F20;\">ESENDE </font><font style=\"font-size:x-small;font-family:Arial, sans-serif;font-weight:bold;text-decoration:underline;color:#231F20;\">AVISO DE LICITAÇÃO</font></p> <p style=\"padding:0pt 0pt 5pt 0pt;\"><font style=\"font-size:x-small;font-family:Arial, sans-serif;color:#231F20;\">Tomada de preços n° 19/2020 - Objeto: serviço de drenagem de águas pluviais e pavimentação asfáltica, conforme edital Processo Administrativo n° 7.407/2020. Data/Hora: 04/05/2020 as 14:30 horas. Valor Estimado: R$ 113.535,32. Tomada de preços n° 20/2020 - Objeto: reforma geral na quadra da Escola conforme edital Processo Administrativo n° 2.516/2020. Data/Hora: 05/05/2020 as 14:30 horas. Valor Estimado: R$ 332.247,49.Editais disponíveis site: </font><a href=\"http://www.re-sende.rj.gov.br/blogtransparencia\"><font style=\"font-size:x-small;font-family:Arial, sans-serif;color:#231F20;\">http://www.re-sende.rj.gov.br/blogtransparencia</font></a><font style=\"font-size:x-small;font-family:Arial, sans-serif;color:#231F20;\">. Contato: e-mail: </font><a href=\"mailto:editais.resen-de@gmail.com\"><font style=\"font-size:x-small;font-family:Arial, sans-serif;color:#231F20;\">editais.resen-de@gmail.com</font></a><font style=\"font-size:x-small;font-family:Arial, sans-serif;color:#231F20;\"> ou tel: (024) 3354-4625.Julio Cezar de Carvalho Superintendente Municipal de Licitações e Contratos.</font></p> <p style=\"padding:0pt 0pt 7pt 0pt;\"><font style=\"font-size:x-small;font-family:Arial, sans-serif;font-weight:bold;color:#231F20;\">Id: 2248316</font></p> <p style=\"padding:0pt 0pt 5pt 0pt;\"><font style=\"font-size:x-small;font-family:Arial, sans-serif;font-weight:bold;color:#231F20;\">ERRATA E AVISO DE ADIAMENTO</font></p> <p style=\"padding:0pt 0pt 5pt 0pt;\"><font style=\"font-size:x-small;font-family:Arial, sans-serif;font-weight:bold;color:#231F20;\">Na Edição de 13/04/2020 do Pregão Eletrônico n° 044 - Onde se lê: Número e Ano do processo: 5.194/2019. Leia-se: Número e Ano do processo: 5.194/2020. Edital encontra se disponível no site: </font><font style=\"font-size:x-small;font-family:Arial, sans-serif;text-decoration:underline;color:#231F20;\">h ttp: //www. re s</font><font style=\"font-size:x-small;font-family:Arial, sans-serif;font-weight:bold;color:#231F20;\">e</font><font style=\"font-size:x-small;font-family:Arial, sans-serif;text-decoration:underline;color:#231F20;\">n d e. rj. g ov. br/bl o g tra n sp a ren ci a</font><font style=\"font-size:x-small;font-family:Arial, sans-serif;color:#231F20;\"> </font><font style=\"font-size:x-small;font-family:Arial, sans-serif;font-weight:bold;color:#231F20;\">. Para mais informações e questionamento: Contato: e-mail: </font><a href=\"mailto:licitacaosaude.resen-de@gmail.com\"><font style=\"font-size:x-small;font-family:Arial, sans-serif;text-decoration:underline;color:#231F20;\">licitacaosaude.resen-de@gmail.com</font></a><font style=\"font-size:x-small;font-family:Arial, sans-serif;color:#231F20;\"> </font><font style=\"font-size:x-small;font-family:Arial, sans-serif;font-weight:bold;color:#231F20;\">ou obtidas através do tel: (0XX24) 3354-3922. Julio Cezar de Carvalho. Superintendente Municipal de Licitações e Contratos.</font></p> <p style=\"\"><font style=\"font-size:x-small;font-family:Arial, sans-serif;font-weight:bold;color:#231F20;\">Id: 2248321</font></p> <p style=\"padding:0pt 0pt 7pt 0pt;\"><font style=\"font-size:x-small;font-family:Arial, sans-serif;color:#231F20;\">atender as necessidades do núcleo do Programa Segundo Tempo -PST - Padrão, no Município de Sapucaia/RJ, sagrando-se vencedora a empresa: STAMP COR INDÚSTRIA E COMÉRCIO DE PRODUTOS SEGIGRAFICOS LTDA, CNPJ n° 02.728.331/0001-78, valor R$13.440,00(treze mil, quatrocentos e quarenta reais), devendo os autos subir à Secretaria de Fazenda para emissão na Nota de Empenho a favor da licitante vencedora.</font></p> <p style=\"padding:0pt 0pt 7pt 0pt;\"><font style=\"font-size:x-small;font-family:Arial, sans-serif;color:#231F20;\">Sapucaia, 30 de março de 2020</font></p> <p style=\"padding:0pt 0pt 7pt 0pt;\"><font style=\"font-size:x-small;font-family:Arial, sans-serif;color:#231F20;\">Fabricio dos Santos Baião Prefeito Municipal</font></p> <p style=\"padding:0pt 0pt 7pt 0pt;\"><font style=\"font-size:x-small;font-family:Arial, sans-serif;color:#231F20;\">EXTRATO DE CONTRATO N° 22/ 2020</font></p> <p style=\"\"><font style=\"font-size:x-small;font-family:Arial, sans-serif;color:#231F20;\">CONTRATANTE: MUNICÍPIO DE SAPUCAIA, CNPJ n°</font></p> <p style=\"padding:0pt 0pt 5pt 0pt;\"><font style=\"font-size:x-small;font-family:Arial, sans-serif;color:#231F20;\">29.138.393/0001-86,Praça Gov. Miguel Couto Filho, n° 240, Centro, Sapucaia/RJ,CONTRATADO: STAMP COR INDUSTRIA E COMÉRCIO DE PRODUTOS SEGIGRAFICOS LTDA, com sede à Rua Manoel Fernandes, 45, Centro, Areal, RJ, inscrita no CNPJ/MF sob o n° 02.728.331/0001-78, OBJETO: aquisição de uniformes, a fim de atender as necessidades do núcleo do Programa Segundo Tempo - PST -Padrão, no Município de Sapucaia/RJ. VALOR: R$13.440,00(treze mil, quatrocentos e quarenta reais), PERÍODO: 15(quinze)meses.</font></p> <p style=\"text-indent:128pt;padding:0pt 0pt 7pt 69pt;\"><font style=\"font-size:x-small;font-family:Arial, sans-serif;font-weight:bold;color:#231F20;\">Id: 2247611 </font><font style=\"font-size:x-small;font-family:Arial, sans-serif;color:#231F20;\">DESPACHO DO PREFEITO</font></p> <p style=\"\"><font style=\"font-size:x-small;font-family:Arial, sans-serif;color:#231F20;\">PROCESSO N.°598_2020.PREGÃO PRESENCIAL 5_2020. Considerando os autos do presente processo, HOMOLOGO o resultado de licitação em epígrafe, cujo objeto aquisição de material esportivo, a fim de atender as necessidades do núcleo do Programa Segundo Tempo</font></p> <p style=\"padding:0pt 0pt 7pt 0pt;\"><font style=\"font-size:x-small;font-family:Arial, sans-serif;color:#231F20;\">- PST - Padrão, no Município de Sapucaia/RJ, sagrando-se vencedoras as empresas: SION INDÚSTRIA E COMÉRCIO DE PAPEIS LTDA, CNPJ n° 21.618.822/0001-00, valor R$12.618,30(doze mil, seiscentos e dezoito reais e trinta centavos), 100% EMBALAGENS DISTRIBUIDORA ALÉM PARAÍBA LTDA, CNPJ n° 04.168.271/0002-92, VALOR R$12.562,20(doze mil, quinhentos e sessenta e dois reais e vinte centavos), 3B COMERCIAL EIRELI - ME, CNPJ n° 30.703.806/0001-07, valor R$12.660,00 (doze mil, seiscentos e sessenta reais) e JOSIANE POCIDONIO PEREIRA EIRELI - EPP, CNPJ n° 35.496.391/0001-61, valor R$15.419,00(quinze mil, quatrocentos e dezenove reais), devendo os autos subir à Secretaria de Fazenda para emissão na Nota de Empenho a favor das licitantes vencedoras.</font></p> <p style=\"padding:0pt 0pt 7pt 0pt;\"><font style=\"font-size:x-small;font-family:Arial, sans-serif;color:#231F20;\">Sapucaia, 30 de março de 2020</font></p> <p style=\"padding:0pt 0pt 7pt 0pt;\"><font style=\"font-size:x-small;font-family:Arial, sans-serif;color:#231F20;\">Fabricio dos Santos Baião Prefeito Municipal</font></p> <p style=\"padding:0pt 0pt 7pt 0pt;\"><font style=\"font-size:x-small;font-family:Arial, sans-serif;color:#231F20;\">EXTRATO DE CONTRATO N° 24/ 2020</font></p> <p style=\"\"><font style=\"font-size:x-small;font-family:Arial, sans-serif;color:#231F20;\">CONTRATANTE: MUNICÍPIO DE SAPUCAIA CNPJ n°</font></p> <p style=\"padding:0pt 0pt 7pt 0pt;\"><font style=\"font-size:x-small;font-family:Arial, sans-serif;color:#231F20;\">29.138.393/0001-86,Praça Gov. Miguel Couto Filho, n° 240, Centro, Sapucaia/RJ,CONTRATADO: 100% EMBALAGENS DISTRIBUIDORA ALÉM PARAÍBA LTDA, com sede à Av. Cotril, 1904, Jamapará, Sa-pucaia/RJ, inscrita no CNPJ/MF sob o n° 04.168.271/0002-92, OBJE-TO:aquisição de material esportivo, a fim de atender as necessidades do núcleo do Programa Segundo Tempo - PST - Padrão, no Município de Sapucaia/RJ. VALOR: R$12.562,20(doze mil, quinhentos e sessenta e dois reais e vinte centavos),PERíODO:15(quinze)meses.</font></p> <p style=\"padding:0pt 0pt 7pt 0pt;\"><font style=\"font-size:x-small;font-family:Arial, sans-serif;color:#231F20;\">EXTRATO DE CONTRATO N° 23/ 2020</font></p> <p style=\"\"><font style=\"font-size:x-small;font-family:Arial, sans-serif;color:#231F20;\">CONTRATANTE: MUNICÍPIO DE SAPUCAIA CNPJ n°</font></p> <p style=\"padding:0pt 0pt 7pt 0pt;\"><font style=\"font-size:x-small;font-family:Arial, sans-serif;color:#231F20;\">29.138.393/0001-86,Praça Gov. Miguel Couto Filho, n° 240, Centro, Sapucaia/RJ,CONTRATADO: SION INDÚSTRIA E COMÉRCIO DE PA-PEIS LTDA, com sede à Rua Barbosa Lima, n.°185, Centro, Juiz de Fora/MG, inscrita no CNPJ/MF sob o n° 21.618.822/0001-00, OBJE-TO:aquisição de material esportivo, a fim de atender as necessidades do núcleo do Programa Segundo Tempo - PST - Padrão, no Município de Sapucaia/RJ. VALOR: R$12.618,30(doze mil, seiscentos e dezoito reais e trinta centavos).PERÍODO:15(quinze)meses.</font></p> <p style=\"padding:0pt 0pt 7pt 0pt;\"><font style=\"font-size:x-small;font-family:Arial, sans-serif;color:#231F20;\">EXTRATO DE CONTRATO N° 25/ 2020</font></p> <p style=\"\"><font style=\"font-size:x-small;font-family:Arial, sans-serif;color:#231F20;\">CONTRATANTE: MUNICÍPIO DE SAPUCAIA CNPJ n°</font></p> <p style=\"padding:0pt 0pt 7pt 0pt;\"><font style=\"font-size:x-small;font-family:Arial, sans-serif;color:#231F20;\">29.138.393/0001-86,Praça Gov. Miguel Couto Filho, n° 240, Centro, Sapucaia/RJ,CONTRATADO: 3B COMERCIAL EIRELI - ME, com sede à Rua Maria da Silva Machareth, 45 - Influência - Carmo/RJ, inscrita no CNPJ/MF sob o n° 30.703.806/0001-07, OBJETO: aquisição de material esportivo, a fim de atender as necessidades do núcleo do Programa Segundo Tempo - PST - Padrão, no Município de Sapu-caia/RJ. VALOR: R$12.660,00(doze mil, seiscentos e sessenta reais). PERÍODO: 15(quinze)meses.</font></p> <p style=\"padding:0pt 0pt 7pt 0pt;\"><font style=\"font-size:x-small;font-family:Arial, sans-serif;color:#231F20;\">EXTRATO DE CONTRATO N° 26/ 2020</font></p> <p style=\"\"><font style=\"font-size:x-small;font-family:Arial, sans-serif;color:#231F20;\">CONTRATANTE: MUNICÍPIO DE SAPUCAIA CNPJ n°</font></p> <p style=\"\"><font style=\"font-size:x-small;font-family:Arial, sans-serif;color:#231F20;\">29.138.393/0001-86,Praça Gov. Miguel Couto Filho, n° 240, Centro, Sapucaia/RJ,CONTRATADO: JOSIANE POCIDONIO PEREIRA EIRELI</font></p> <p style=\"padding:0pt 0pt 5pt 0pt;\"><font style=\"font-size:x-small;font-family:Arial, sans-serif;color:#231F20;\">- EPP, com sede à Rua Isaura Maia de Souza, 235, Loja 1 - Ave Maria - Carmo/RJ, inscrita no CNPJ/MF sob o n° 35.496.391/0001-61, OBJETO:aquisição de material esportivo, a fim de atender as necessidades do núcleo do Programa Segundo Tempo - PST - Padrão, no Município de Sapucaia/RJ. VALOR: R$15.419,00(quinze mil, quatrocentos e dezenove reais).PERÍODO:15(quinze)meses.</font></p> <p style=\"padding:0pt 0pt 7pt 0pt;\"><font style=\"font-size:x-small;font-family:Arial, sans-serif;font-weight:bold;color:#231F20;\">Id: 2247612</font></p> <p style=\"padding:0pt 0pt 7pt 0pt;\"><font style=\"font-size:x-small;font-family:Arial, sans-serif;color:#231F20;\">EXTRATO DE CONTRATO N° 20_2020</font></p> <p style=\"\"><font style=\"font-size:x-small;font-family:Arial, sans-serif;color:#231F20;\">CONTRATANTE: MUNICÍPIO DE SAPUCAIA,CNPJ n°</font></p> <p style=\"padding:0pt 0pt 7pt 0pt;\"><font style=\"font-size:x-small;font-family:Arial, sans-serif;color:#231F20;\">29.138.393/0001-86,Praça Gov. Miguel Couto Filho, n° 240, Centro, Sapucaia/RJ,CONTRATADO:AG NETO ARQUITETURA E CONSTRUÇÃO LTDA-EPP,Rua Moreira dos Santos, 848, parte, Centro, Barra do Pirai - RJ,CNPJ n°10.785.639/0001-83, OBJETO: Contratação de empresa especializada objetivando Implantação, sob regime de empreitada, de Calçadão no Município de Sapucaia/RJ, TOMADA DE PREÇOS N.° 1_2020 e anexos.VALOR:R$ 277.997,02(duzentos e setenta e sete mil, novecentos e noventa e sete reais e dois centavos).PE-RÍODO:08(oito)meses</font></p> <p style=\"padding:0pt 0pt 7pt 0pt;\"><font style=\"font-size:x-small;font-family:Arial, sans-serif;color:#231F20;\">TERMO DE HOMOLOGAÇÃO E ADJUDICAÇÃO</font></p> <p style=\"padding:0pt 0pt 7pt 0pt;\"><font style=\"font-size:x-small;font-family:Arial, sans-serif;color:#231F20;\">O Prefeito Municipal de Sapucaia, no uso de suas atribuições legais e, com fundamento no inciso VI, do art. 43, da Lei 8.666/93 e alterações, em conformidade com o que consta no Processo n.° 368/2020, HOMOLOGA a Licitação na modalidade Tomada de Preço n.° 1/2020, e ADJUDICA à empresa AG NETO ARQUITETURA E CONSTRUÇÃO LTDA-EPP, com sede à Rua Moreira dos Santos, 848, parte, Centro, Barra do Pirai - RJ, inscrita no CNPJ/MF sob o n°10.785.639/0001-83, que tem por objeto a Contratação de empresa especializada objetivando Implantação, sob regime de empreitada, de Calçadão no Município de Sapucaia/RJ.</font></p> <p style=\"padding:0pt 0pt 7pt 0pt;\"><font style=\"font-size:x-small;font-family:Arial, sans-serif;color:#231F20;\">Sapucaia, 30 de março de 2020.</font></p> <p style=\"padding:0pt 0pt 5pt 0pt;\"><font style=\"font-size:x-small;font-family:Arial, sans-serif;color:#231F20;\">Fabrício dos Santos Baião Prefeito Municipal</font></p> <p style=\"padding:0pt 0pt 7pt 0pt;\"><font style=\"font-size:x-small;font-family:Arial, sans-serif;font-weight:bold;color:#231F20;\">Id: 2247613</font></p> <h6><font style=\"font-size:medium;font-family:Times New Roman, serif;font-weight:bold;color:#231F20;\">Município de São João da Barra</font></h6> <p style=\"\"><font style=\"font-size:small;font-family:Times New Roman, serif;font-weight:bold;color:#231F20;\">PREFEITURA MUNICIPAL</font></p> <p style=\"padding:0pt 0pt 7pt 0pt;\"><font style=\"font-size:x-small;font-family:Arial, sans-serif;font-weight:bold;color:#231F20;\">DISPENSA DE LICITAÇÃO H O M O L O G A Ç Ã O / R AT I F I C A Ç Ã O</font></p> <p style=\"\"><font style=\"font-size:x-small;font-family:Arial, sans-serif;font-weight:bold;color:#231F20;\">Contratada (o): TECNOCRYO GASES - TRANSPORTE, COMÉRCIO, SERVIÇOS E MANUTENÇÕES, IMPORTAÇÃO E EXPORTAÇÃO LTDA</font><font style=\"font-size:x-small;font-family:Arial, sans-serif;color:#231F20;\">;</font></p> <p style=\"\"><font style=\"font-size:x-small;font-family:Arial, sans-serif;font-weight:bold;color:#231F20;\">Processo Administrativo: 2143/2020</font><font style=\"font-size:x-small;font-family:Arial, sans-serif;color:#231F20;\">;</font></p> <p style=\"\"><font style=\"font-size:x-small;font-family:Arial, sans-serif;font-weight:bold;color:#231F20;\">Objeto: CONTRATAÇÃO EMERGENCIAL PARA SERVIÇOS DE FORNECIMENTO ININTERRUPTO DE GASES MEDICINAIS, COM DISPONIBILIZAÇÃO ONEROSA DE EQUIPAMENTOS E INSTALAÇÕES, PARA ATENDER O CENTRO DE EMERGÊNCIA, NO QUAL SERÁ INSTALADO O CENTRO DE UNIDADE DE TERAPIA INTENSIVA (UTI), PARA COMBATE AO AGRAVAMENTO DA PANDEMIA DO COVID-19, no Município de São João da Barra - RJ</font><font style=\"font-size:x-small;font-family:Arial, sans-serif;color:#231F20;\">, conforme as especificações constantes no Termo de Referência.</font></p> <p style=\"\"><font style=\"font-size:x-small;font-family:Arial, sans-serif;font-weight:bold;color:#231F20;\">Contratante: </font><font style=\"font-size:x-small;font-family:Arial, sans-serif;color:#231F20;\">Município de São João da Barra, representado pela Secretaria Municipal de Saúde;</font></p> <p style=\"\"><font style=\"font-size:x-small;font-family:Arial, sans-serif;font-weight:bold;color:#231F20;\">Va l o r : </font><font style=\"font-size:x-small;font-family:Arial, sans-serif;color:#231F20;\">R$ 308.850,00 (Trezentos e Oito Mil, Oitocentos e Cinquenta Reais);</font></p> <p style=\"\"><font style=\"font-size:x-small;font-family:Arial, sans-serif;font-weight:bold;color:#231F20;\">Dotação Orçamentária</font><font style=\"font-size:x-small;font-family:Arial, sans-serif;color:#231F20;\">: 08021030218252046;</font></p> <p style=\"\"><font style=\"font-size:x-small;font-family:Arial, sans-serif;font-weight:bold;color:#231F20;\">Elemento Despesa: </font><font style=\"font-size:x-small;font-family:Arial, sans-serif;color:#231F20;\">33903900000;</font></p> <p style=\"\"><font style=\"font-size:x-small;font-family:Arial, sans-serif;font-weight:bold;color:#231F20;\">Fonte: </font><font style=\"font-size:x-small;font-family:Arial, sans-serif;color:#231F20;\">18; </font><font style=\"font-size:x-small;font-family:Arial, sans-serif;font-weight:bold;color:#231F20;\">Ficha: </font><font style=\"font-size:x-small;font-family:Arial, sans-serif;color:#231F20;\">125;</font></p> <p style=\"padding:0pt 0pt 7pt 0pt;\"><font style=\"font-size:x-small;font-family:Arial, sans-serif;font-weight:bold;color:#231F20;\">Fundamentação Legal: </font><font style=\"font-size:x-small;font-family:Arial, sans-serif;color:#231F20;\">art. 4°, § 1°, da Lei Federal 13.979/20.</font></p> <p style=\"padding:0pt 0pt 7pt 0pt;\"><font style=\"font-size:x-small;font-family:Arial, sans-serif;color:#231F20;\">São João da Barra, 08 de abril de 2020.</font></p> <p><font style=\"font-size:x-small;font-family:Arial, sans-serif;color:#231F20;\">ARLENY VALDES ARIAS</font></p> <p style=\"padding:0pt 0pt 5pt 0pt;\"><font style=\"font-size:x-small;font-family:Arial, sans-serif;font-weight:bold;color:#231F20;\">SECRETÁRIA MUNICIPAL DE SAÚDE</font></p> <p style=\"padding:0pt 0pt 7pt 0pt;\"><font style=\"font-size:x-small;font-family:Arial, sans-serif;font-weight:bold;color:#231F20;\">Id: 2248183</font></p> <h6><font style=\"font-size:medium;font-family:Times New Roman, serif;font-weight:bold;color:#231F20;\">Município de Varre-Sai</font></h6> <p style=\"\"><font style=\"font-size:small;font-family:Times New Roman, serif;font-weight:bold;color:#231F20;\">PREFEITURA MUNICIPAL</font></p> <p style=\"padding:0pt 0pt 7pt 0pt;\"><font style=\"font-size:x-small;font-family:Arial, sans-serif;font-weight:bold;text-decoration:underline;color:#231F20;\">AVISO DE LICITAÇÃO</font></p> <p style=\"padding:0pt 0pt 7pt 0pt;\"><font style=\"font-size:x-small;font-family:Arial, sans-serif;font-weight:bold;text-decoration:underline;color:#231F20;\">TOMADA DE PREÇOS N° 007/2020</font></p> <p><font style=\"font-size:x-small;font-family:Arial, sans-serif;font-weight:bold;color:#231F20;\">PROCESSO </font><font style=\"font-size:x-small;font-family:Arial, sans-serif;font-weight:bold;text-decoration:underline;color:#231F20;\">N</font><font style=\"font-size:x-small;font-family:Arial, sans-serif;font-weight:bold;color:#231F20;\">° 1</font><font style=\"font-size:x-small;font-family:Arial, sans-serif;font-weight:bold;text-decoration:underline;color:#231F20;\">5</font><font style=\"font-size:x-small;font-family:Arial, sans-serif;font-weight:bold;color:#231F20;\">22/2020</font></p> <p style=\"padding:0pt 0pt 5pt 0pt;\"><font style=\"font-size:x-small;font-family:Arial, sans-serif;color:#231F20;\">A PREFEITURA MUNICIPAL DE VARRE-SAI, torna público que estará realizando licitação na modalidade </font><font style=\"font-size:x-small;font-family:Arial, sans-serif;font-weight:bold;color:#231F20;\">TOMADA DE PREÇOS TIPO MENOR PREÇO, PELO REGIME DE EMPREITADA POR PREÇO GLOBAL, CUJO OBJETO É A EXECUÇÃO DA OBRA DE REFORMA DE PRÉDIO PÚBLICO PARA FUNCIONAMENTO DA SEDE DA GUARDA MUNICIPAL DE VARRE-SAI </font><font style=\"font-size:x-small;font-family:Arial, sans-serif;color:#231F20;\">A sessão pública ocorrerá no dia 06/05/2020, as 10:30h. O Edital na íntegra está disponível no site </font><a href=\"http://www.varresai.rj.gov.br\"><font style=\"font-size:x-small;font-family:Arial, sans-serif;text-decoration:underline;color:#231F20;\">www.varresai.rj.gov.br</font></a><font style=\"font-size:x-small;font-family:Arial, sans-serif;color:#231F20;\">. Maiores informações podem ser obtidas através do e-mail: </font><a href=\"mailto:licitacao@varresai.rj.gov.br\"><font style=\"font-size:x-small;font-family:Arial, sans-serif;color:#231F20;\">licitacao@varresai.rj.gov.br</font></a><font style=\"font-size:x-small;font-family:Arial, sans-serif;color:#231F20;\"> e telefone </font><font style=\"font-size:x-small;font-family:Arial, sans-serif;text-decoration:underline;color:#231F20;\">(22) 3843.3532</font><font style=\"font-size:x-small;font-family:Arial, sans-serif;color:#231F20;\"> - Ramal 32. Renato Rosson Martins - Presidente da CPL e Pregoeiro.</font></p> <p style=\"padding:0pt 0pt 7pt 0pt;\"><font style=\"font-size:x-small;font-family:Arial, sans-serif;font-weight:bold;color:#231F20;\">Id: 2248333</font></p> <p><font style=\"font-size:small;font-family:Times New Roman, serif;font-weight:bold;color:#231F20;\">PREFEITURA MUNICIPAL</font></p> <h6><font style=\"font-size:medium;font-family:Times New Roman, serif;font-weight:bold;color:#231F20;\">Município de Sapucaia</font></h6> <p><font style=\"font-size:large;font-family:Arial, sans-serif;font-weight:bold;color:#373737;\">AGETRANSP</font></p> <p style=\"\"><font style=\"font-size:medium;font-family:Arial, sans-serif;color:#797979;\">AGÊNCIA REGULADORA DE SERVEÇOS PLJBLlCOS CONCEDIDOS DE TRANSPORTES AQUAVIÀRIOS, FERROVIÁRIOS E METROViÁRIOS E DE RODOVIAS DO ESTADO DO RIO DE JANEIRO</font></p> <h2><font style=\"font-size:xx-large;font-family:Arial, sans-serif;font-weight:bold;color:#232323;\">Ouvidoria:</font></h2> <h3 style=\"padding:0pt 0pt 3pt 0pt;\"><font style=\"font-size:xx-large;font-family:Arial, sans-serif;font-weight:bold;color:#232323;\">0800 285 9796</font></h3> <h4><font style=\"font-size:medium;font-family:Arial, sans-serif;font-weight:bold;color:#232323;\">De 2<sup>a</sup> a 6<sup>a</sup> feira, das 7h às 19h</font></h4> <h4 style=\"padding:0pt 0pt 4pt 0pt;\"><a href=\"mailto:ouvidoria@agetransp.rj.gov.br\"><font style=\"font-size:medium;font-family:Arial, sans-serif;font-weight:bold;color:#232323;\">ouvidoria@agetransp.rj.gov.br</font></a><font style=\"font-size:medium;font-family:Arial, sans-serif;font-weight:bold;color:#232323;\"> </font><a href=\"http://www.agetransp.rj.gov.br\"><font style=\"font-size:medium;font-family:Arial, sans-serif;font-weight:bold;color:#232323;\">www.agetransp.rj.gov.br</font></a></h4> <h5><font style=\"font-size:medium;font-family:Arial, sans-serif;color:#797979;\">Barcas, Metrô, Trem e Rodovias Estaduais Pcdagladas</font></h5><img alt=\"\" src=\"data:image/jpeg;base64,/9j/4AAQSkZJRgABAQEASABIAAD/2wBDABALDA4MChAODQ4SERATGCgaGBYWGDEjJR0oOjM9PDkzODdASFxOQERXRTc4UG1RV19iZ2hnPk1xeXBkeFxlZ2P/2wBDARESEhgVGC8aGi9jQjhCY2NjY2NjY2NjY2NjY2NjY2NjY2NjY2NjY2NjY2NjY2NjY2NjY2NjY2NjY2NjY2NjY2P/wAARCAAhADwDASIAAhEBAxEB/8QAHwAAAQUBAQEBAQEAAAAAAAAAAAECAwQFBgcICQoL/8QAtRAAAgEDAwIEAwUFBAQAAAF9AQIDAAQRBRIhMUEGE1FhByJxFDKBkaEII0KxwRVS0fAkM2JyggkKFhcYGRolJicoKSo0NTY3ODk6Q0RFRkdISUpTVFVWV1hZWmNkZWZnaGlqc3R1dnd4eXqDhIWGh4iJipKTlJWWl5iZmqKjpKWmp6ipqrKztLW2t7i5usLDxMXGx8jJytLT1NXW19jZ2uHi4+Tl5ufo6erx8vP09fb3+Pn6/8QAHwEAAwEBAQEBAQEBAQAAAAAAAAECAwQFBgcICQoL/8QAtREAAgECBAQDBAcFBAQAAQJ3AAECAxEEBSExBhJBUQdhcRMiMoEIFEKRobHBCSMzUvAVYnLRChYkNOEl8RcYGRomJygpKjU2Nzg5OkNERUZHSElKU1RVVldYWVpjZGVmZ2hpanN0dXZ3eHl6goOEhYaHiImKkpOUlZaXmJmaoqOkpaanqKmqsrO0tba3uLm6wsPExcbHyMnK0tPU1dbX2Nna4uPk5ebn6Onq8vP09fb3+Pn6/9oADAMBAAIRAxEAPwDprrVZfNZYcKoOMkZJqu2o3bdZiPoAKrSMDI2Dnk1oW+mCe3V/NG4ntyMUAVvPu3Ut5sxX1BOKiMkhOTI2fqa6SKFIYhGg+UD86zb+wTf5qMEXHzDH8qAMi+8SXmneTEsccgcH55M54+hqCLxHrN4xS2ijLDrsjJx+ZrO1/DS2qrz8zV1fhmxkstPYTxeXIzEn3HagDCu9U8RWqCS4dokJwCY0xn8q39D1o31h5lwuJFYoSo4PA5/Wuf8AED6u0Q+3oqweZ8mNvXHtzVnwz/yD5Of+Wp/kKAJFhied1lYpycMBxW3p1tBaqxSfeW9+BUE9jIZnKwHZnIIIqI2jj/li4+imgDUlvIIQS8g+g5Nc/qN017NnGEXhRVhrcD7ylfqCKYYYhySv50AczralZLYrwcmuw8L3U95pfmXLl3DEAkdqoPo0l88c8DRPGgIxu71safDJZ2Xkm3YNzkqVwf1oA4XVdSu71jFcSl0jc7RjpWx4XH/Euk/67H+Qp0mjzZJa0cnvhc/yrb0bToobHBjZWZixDLtx/nFAGtRRRQAVBdfcoooASz/1J/3jViiigAooooA//9k=\" style=\"width:60pt;height:33pt;\"/> <p style=\"padding:0pt 0pt 5pt 0pt;\"><a href=\"https://www.facebook.com/agetransprj\"><font style=\"font-size:small;font-family:Arial, sans-serif;font-weight:bold;color:#232323;\">www.facebook.com/agetransprj</font></a></p> <p><a href=\"https://www.twitter.com/agetransp\"><font style=\"font-size:small;font-family:Arial, sans-serif;font-weight:bold;color:#232323;\">www.twitter.com/agetransp</font></a></p> <p style=\"padding:0pt 0pt 7pt 0pt;\"><font style=\"font-size:x-small;font-family:Arial, sans-serif;color:#231F20;\">DESPACHO DO PREFEITO</font></p> <p style=\"padding:0pt 0pt 7pt 0pt;\"><font style=\"font-size:x-small;font-family:Arial, sans-serif;color:#231F20;\">PROCESSO N.°590_2020.PREGÃO PRESENCIAL 2-2020. Considerando os autos do presente processo, HOMOLOGO o resultado de licitação em epígrafe, cujo objeto aquisição de material para identificação do projeto (banner) a fim de atender as necessidades do núcleo do Programa Segundo Tempo - PST - Padrão, no Município de Sa-pucaia/RJ, sagrando-se vencedor a empresa: DIGRAPEL DISTRIBUIDORA DE PAPEL E GRÁFICA LTDA, inscrita no CNPJ: 27.740.877/0001-75, valor R$480,00 (quatrocentos e oitenta reais), devendo os autos subir à Secretaria de Fazenda para emissão na Nota de Empenho a favor da licitante vencedora.</font></p> <p style=\"padding:0pt 0pt 7pt 0pt;\"><font style=\"font-size:x-small;font-family:Arial, sans-serif;color:#231F20;\">Sapucaia, 30 de março de 2020</font></p> <p style=\"padding:0pt 0pt 7pt 0pt;\"><font style=\"font-size:x-small;font-family:Arial, sans-serif;color:#231F20;\">Fabricio dos Santos Baião Prefeito Municipal</font></p> <p style=\"padding:0pt 0pt 7pt 0pt;\"><font style=\"font-size:x-small;font-family:Arial, sans-serif;color:#231F20;\">EXTRATO DE CONTRATO N° 21/ 2020</font></p> <p style=\"\"><font style=\"font-size:x-small;font-family:Arial, sans-serif;color:#231F20;\">CONTRATANTE: MUNICÍPIO DE SAPUCAIA CNPJ n°</font></p> <p style=\"padding:0pt 0pt 5pt 0pt;\"><font style=\"font-size:x-small;font-family:Arial, sans-serif;color:#231F20;\">29.138.393/0001-86,Praça Gov. Miguel Couto Filho, n° 240, Centro, Sapucaia/RJ,CONTRATADO: DIGRAPEL DISTRIBUIDORA DE PAPEL E GRÁFICA LTDA,Rua Corina Caiado França, n° 20A22, Coramara, Cachoeiro do Itapemirim, ES,CNPJ: 27.740.877/0001-75, OBJETO: aquisição de material para identificação do projeto (banner) a fim de atender as necessidades do núcleo do Programa Segundo Tempo -PST - Padrão, no Município de Sapucaia/RJ. VALOR:R$480,00 (quatrocentos e oitenta reais). PERÍODO:15(quinze)meses.</font></p> <p style=\"padding:0pt 0pt 10pt 0pt;\"><font style=\"font-size:x-small;font-family:Arial, sans-serif;font-weight:bold;color:#231F20;\">Id: 2247610</font></p> <p style=\"padding:0pt 0pt 7pt 0pt;\"><font style=\"font-size:x-small;font-family:Arial, sans-serif;color:#231F20;\">DESPACHO DO PREFEITO</font></p> <p style=\"padding:0pt 0pt 7pt 0pt;\"><font style=\"font-size:x-small;font-family:Arial, sans-serif;color:#231F20;\">PROCESSO N.°597_2020.PREGÃO PRESENCIAL 4_2020. Considerando os autos do presente processo, HOMOLOGO o resultado de licitação em epígrafe, cujo objeto aquisição de uniformes, a fim de</font></p> </body></html>\n",
       "</div>"
      ]
     },
     "execution_count": 7,
     "metadata": {},
     "output_type": "execute_result"
    }
   ],
   "source": [
    "tags[0]"
   ]
  },
  {
   "cell_type": "code",
   "execution_count": null,
   "metadata": {},
   "outputs": [],
   "source": [
    "#</sub></font></p>"
   ]
  },
  {
   "cell_type": "code",
   "execution_count": 8,
   "metadata": {},
   "outputs": [],
   "source": [
    "pag_html=tags[0]"
   ]
  },
  {
   "cell_type": "code",
   "execution_count": 11,
   "metadata": {},
   "outputs": [],
   "source": [
    "type(pag_html.text)\n",
    "pag_html_str=pag_html.text"
   ]
  },
  {
   "cell_type": "code",
   "execution_count": 12,
   "metadata": {},
   "outputs": [
    {
     "name": "stdout",
     "output_type": "stream",
     "text": [
      "0\n",
      "2\n",
      "4\n",
      "-1\n"
     ]
    }
   ],
   "source": [
    "s = 'abcd1234dcba'\n",
    "print(s.find('a'))  # 0\n",
    "print(s.find('cd'))  # 2\n",
    "print(s.find('1', 0, 5))  # 4\n",
    "print(s.find('1', 0, 2))  # -1"
   ]
  },
  {
   "cell_type": "code",
   "execution_count": 15,
   "metadata": {},
   "outputs": [],
   "source": [
    "def find_all(a_str, sub):\n",
    "    start = 0\n",
    "    while True:\n",
    "        start = a_str.find(sub, start)\n",
    "        if start == -1: return\n",
    "        yield start\n",
    "        start += len(sub) # use start += 1 to find overlapping matches"
   ]
  },
  {
   "cell_type": "code",
   "execution_count": 17,
   "metadata": {},
   "outputs": [
    {
     "data": {
      "text/plain": [
       "[0, 11]"
      ]
     },
     "execution_count": 17,
     "metadata": {},
     "output_type": "execute_result"
    }
   ],
   "source": [
    "list(find_all(s,'a'))"
   ]
  },
  {
   "cell_type": "code",
   "execution_count": 20,
   "metadata": {},
   "outputs": [
    {
     "data": {
      "text/plain": [
       "[684, 1131, 2515, 3219, 3732, 4784, 8157, 9477, 10593, 11320, 13017]"
      ]
     },
     "execution_count": 20,
     "metadata": {},
     "output_type": "execute_result"
    }
   ],
   "source": [
    "indices_Ids=list(find_all(pag_html_str,'Id: '))\n",
    "indices_Ids"
   ]
  },
  {
   "cell_type": "code",
   "execution_count": 21,
   "metadata": {},
   "outputs": [
    {
     "data": {
      "text/plain": [
       "'Id: 2248297'"
      ]
     },
     "execution_count": 21,
     "metadata": {},
     "output_type": "execute_result"
    }
   ],
   "source": [
    "pag_html_str[684:684+11]"
   ]
  },
  {
   "cell_type": "code",
   "execution_count": 22,
   "metadata": {},
   "outputs": [
    {
     "data": {
      "text/plain": [
       "13017"
      ]
     },
     "execution_count": 22,
     "metadata": {},
     "output_type": "execute_result"
    }
   ],
   "source": [
    "nr_materias=len(indices_Ids)\n",
    "indices_Ids[nr_materias-1]"
   ]
  },
  {
   "cell_type": "code",
   "execution_count": 24,
   "metadata": {},
   "outputs": [
    {
     "data": {
      "text/plain": [
       "' Município de Pinheiral PREFEITURA MUNICIPAL PREGÃO PRESENCIAL SRP N° 018/2020 Objeto: Aquisição de Medicamentos e insumos constantes no Guia Farmacêutico Brasíndice; Data/Hora: 11/05/2020 às 09:30 horas; Maiores informações e Retirada de Edital: Departamento de Licitações sito a Rua das Acácias, n°. 13 Fundos 2° andar - Bairro: Ipê -Pinheiral. Tel.: (24) 3356-2368 Ramal: 237. E-mail: licitacaopinhei-ral@gmail.com Pregoeiro Titular Id: 2248226 PREFEITURA MUNICIPAL Município de Resende PREFEITURA MUNICIPAL DE RESENDE AVISO DE LICITAÇÃO Pregão Eletrônico n° 47/2020 - Objeto: REGISTRO DE PREÇOS de aquisição de biombos em pvc, conforme Edital. Data/Hora: 06/05/2020 às 14:00horas. Processo Administrativo n°: 28.721/2019 -Valor Estimado: R$ 43.500,00.Pregão Eletrônico n° 48/2020 - Objeto: REGISTRO DE PREÇOS de aquisição de reagente para a realização de exames para triagem de Influenza A e B e COVID-19 com cessão gratuita de dois equipamentos para análise de testes imunológicos por fluorescência utilizando o marcador európi-co, com identificação automática dos testes através de QR code, acessórios (calibradores, controle, swab, papel, fita para impressora etc.), pelo período de 12 (doze) meses,conforme Edital. Data/Hora: 06/05/2020 às 15:00horas. Processo Administrativo n°: 8.880/2020 - Valor Estimado: R$ 334.000,00.Pregão Eletrônico n° 50/2020 - Objeto: REGISTRO DE PREÇOS de aquisição de medicamento, conforme Edital. Data/Hora: 07/05/2020 às 14:00horas. Processo Administrativo n°: 2.713/2020 - Valor Estimado: R$ 43.432,80. Edital disponível no site: h ttp: //www. re sen d e. rj. g o v. br/bl o g -transparencia. Informações e questionamentos: Contato e-mail: licita-caosaude.resende@gmail.com - Tel.: (0XX24) 3354-3922. Julio Cezar de Carvalho - Superintendente Municipal de Licitações e Contratos. Id: 2248320 PREFEITURA MUNICIPAL DE RESENDE AVISO DE LICITAÇÃO Tomada de preços n° 19/2020 - Objeto: serviço de drenagem de águas pluviais e pavimentação asfáltica, conforme edital Processo Administrativo n° 7.407/2020. Data/Hora: 04/05/2020 as 14:30 horas. Valor Estimado: R$ 113.535,32. Tomada de preços n° 20/2020 - Objeto: reforma geral na quadra da Escola conforme edital Processo Administrativo n° 2.516/2020. Data/Hora: 05/05/2020 as 14:30 horas. Valor Estimado: R$ 332.247,49.Editais disponíveis site: http://www.re-sende.rj.gov.br/blogtransparencia. Contato: e-mail: editais.resen-de@gmail.com ou tel: (024) 3354-4625.Julio Cezar de Carvalho Superintendente Municipal de Licitações e Contratos. Id: 2248316 ERRATA E AVISO DE ADIAMENTO Na Edição de 13/04/2020 do Pregão Eletrônico n° 044 - Onde se lê: Número e Ano do processo: 5.194/2019. Leia-se: Número e Ano do processo: 5.194/2020. Edital encontra se disponível no site: h ttp: //www. re sen d e. rj. g ov. br/bl o g tra n sp a ren ci a . Para mais informações e questionamento: Contato: e-mail: licitacaosaude.resen-de@gmail.com ou obtidas através do tel: (0XX24) 3354-3922. Julio Cezar de Carvalho. Superintendente Municipal de Licitações e Contratos. Id: 2248321 atender as necessidades do núcleo do Programa Segundo Tempo -PST - Padrão, no Município de Sapucaia/RJ, sagrando-se vencedora a empresa: STAMP COR INDÚSTRIA E COMÉRCIO DE PRODUTOS SEGIGRAFICOS LTDA, CNPJ n° 02.728.331/0001-78, valor R$13.440,00(treze mil, quatrocentos e quarenta reais), devendo os autos subir à Secretaria de Fazenda para emissão na Nota de Empenho a favor da licitante vencedora. Sapucaia, 30 de março de 2020 Fabricio dos Santos Baião Prefeito Municipal EXTRATO DE CONTRATO N° 22/ 2020 CONTRATANTE: MUNICÍPIO DE SAPUCAIA, CNPJ n° 29.138.393/0001-86,Praça Gov. Miguel Couto Filho, n° 240, Centro, Sapucaia/RJ,CONTRATADO: STAMP COR INDUSTRIA E COMÉRCIO DE PRODUTOS SEGIGRAFICOS LTDA, com sede à Rua Manoel Fernandes, 45, Centro, Areal, RJ, inscrita no CNPJ/MF sob o n° 02.728.331/0001-78, OBJETO: aquisição de uniformes, a fim de atender as necessidades do núcleo do Programa Segundo Tempo - PST -Padrão, no Município de Sapucaia/RJ. VALOR: R$13.440,00(treze mil, quatrocentos e quarenta reais), PERÍODO: 15(quinze)meses. Id: 2247611 DESPACHO DO PREFEITO PROCESSO N.°598_2020.PREGÃO PRESENCIAL 5_2020. Considerando os autos do presente processo, HOMOLOGO o resultado de licitação em epígrafe, cujo objeto aquisição de material esportivo, a fim de atender as necessidades do núcleo do Programa Segundo Tempo - PST - Padrão, no Município de Sapucaia/RJ, sagrando-se vencedoras as empresas: SION INDÚSTRIA E COMÉRCIO DE PAPEIS LTDA, CNPJ n° 21.618.822/0001-00, valor R$12.618,30(doze mil, seiscentos e dezoito reais e trinta centavos), 100% EMBALAGENS DISTRIBUIDORA ALÉM PARAÍBA LTDA, CNPJ n° 04.168.271/0002-92, VALOR R$12.562,20(doze mil, quinhentos e sessenta e dois reais e vinte centavos), 3B COMERCIAL EIRELI - ME, CNPJ n° 30.703.806/0001-07, valor R$12.660,00 (doze mil, seiscentos e sessenta reais) e JOSIANE POCIDONIO PEREIRA EIRELI - EPP, CNPJ n° 35.496.391/0001-61, valor R$15.419,00(quinze mil, quatrocentos e dezenove reais), devendo os autos subir à Secretaria de Fazenda para emissão na Nota de Empenho a favor das licitantes vencedoras. Sapucaia, 30 de março de 2020 Fabricio dos Santos Baião Prefeito Municipal EXTRATO DE CONTRATO N° 24/ 2020 CONTRATANTE: MUNICÍPIO DE SAPUCAIA CNPJ n° 29.138.393/0001-86,Praça Gov. Miguel Couto Filho, n° 240, Centro, Sapucaia/RJ,CONTRATADO: 100% EMBALAGENS DISTRIBUIDORA ALÉM PARAÍBA LTDA, com sede à Av. Cotril, 1904, Jamapará, Sa-pucaia/RJ, inscrita no CNPJ/MF sob o n° 04.168.271/0002-92, OBJE-TO:aquisição de material esportivo, a fim de atender as necessidades do núcleo do Programa Segundo Tempo - PST - Padrão, no Município de Sapucaia/RJ. VALOR: R$12.562,20(doze mil, quinhentos e sessenta e dois reais e vinte centavos),PERíODO:15(quinze)meses. EXTRATO DE CONTRATO N° 23/ 2020 CONTRATANTE: MUNICÍPIO DE SAPUCAIA CNPJ n° 29.138.393/0001-86,Praça Gov. Miguel Couto Filho, n° 240, Centro, Sapucaia/RJ,CONTRATADO: SION INDÚSTRIA E COMÉRCIO DE PA-PEIS LTDA, com sede à Rua Barbosa Lima, n.°185, Centro, Juiz de Fora/MG, inscrita no CNPJ/MF sob o n° 21.618.822/0001-00, OBJE-TO:aquisição de material esportivo, a fim de atender as necessidades do núcleo do Programa Segundo Tempo - PST - Padrão, no Município de Sapucaia/RJ. VALOR: R$12.618,30(doze mil, seiscentos e dezoito reais e trinta centavos).PERÍODO:15(quinze)meses. EXTRATO DE CONTRATO N° 25/ 2020 CONTRATANTE: MUNICÍPIO DE SAPUCAIA CNPJ n° 29.138.393/0001-86,Praça Gov. Miguel Couto Filho, n° 240, Centro, Sapucaia/RJ,CONTRATADO: 3B COMERCIAL EIRELI - ME, com sede à Rua Maria da Silva Machareth, 45 - Influência - Carmo/RJ, inscrita no CNPJ/MF sob o n° 30.703.806/0001-07, OBJETO: aquisição de material esportivo, a fim de atender as necessidades do núcleo do Programa Segundo Tempo - PST - Padrão, no Município de Sapu-caia/RJ. VALOR: R$12.660,00(doze mil, seiscentos e sessenta reais). PERÍODO: 15(quinze)meses. EXTRATO DE CONTRATO N° 26/ 2020 CONTRATANTE: MUNICÍPIO DE SAPUCAIA CNPJ n° 29.138.393/0001-86,Praça Gov. Miguel Couto Filho, n° 240, Centro, Sapucaia/RJ,CONTRATADO: JOSIANE POCIDONIO PEREIRA EIRELI - EPP, com sede à Rua Isaura Maia de Souza, 235, Loja 1 - Ave Maria - Carmo/RJ, inscrita no CNPJ/MF sob o n° 35.496.391/0001-61, OBJETO:aquisição de material esportivo, a fim de atender as necessidades do núcleo do Programa Segundo Tempo - PST - Padrão, no Município de Sapucaia/RJ. VALOR: R$15.419,00(quinze mil, quatrocentos e dezenove reais).PERÍODO:15(quinze)meses. Id: 2247612 EXTRATO DE CONTRATO N° 20_2020 CONTRATANTE: MUNICÍPIO DE SAPUCAIA,CNPJ n° 29.138.393/0001-86,Praça Gov. Miguel Couto Filho, n° 240, Centro, Sapucaia/RJ,CONTRATADO:AG NETO ARQUITETURA E CONSTRUÇÃO LTDA-EPP,Rua Moreira dos Santos, 848, parte, Centro, Barra do Pirai - RJ,CNPJ n°10.785.639/0001-83, OBJETO: Contratação de empresa especializada objetivando Implantação, sob regime de empreitada, de Calçadão no Município de Sapucaia/RJ, TOMADA DE PREÇOS N.° 1_2020 e anexos.VALOR:R$ 277.997,02(duzentos e setenta e sete mil, novecentos e noventa e sete reais e dois centavos).PE-RÍODO:08(oito)meses TERMO DE HOMOLOGAÇÃO E ADJUDICAÇÃO O Prefeito Municipal de Sapucaia, no uso de suas atribuições legais e, com fundamento no inciso VI, do art. 43, da Lei 8.666/93 e alterações, em conformidade com o que consta no Processo n.° 368/2020, HOMOLOGA a Licitação na modalidade Tomada de Preço n.° 1/2020, e ADJUDICA à empresa AG NETO ARQUITETURA E CONSTRUÇÃO LTDA-EPP, com sede à Rua Moreira dos Santos, 848, parte, Centro, Barra do Pirai - RJ, inscrita no CNPJ/MF sob o n°10.785.639/0001-83, que tem por objeto a Contratação de empresa especializada objetivando Implantação, sob regime de empreitada, de Calçadão no Município de Sapucaia/RJ. Sapucaia, 30 de março de 2020. Fabrício dos Santos Baião Prefeito Municipal Id: 2247613 Município de São João da Barra PREFEITURA MUNICIPAL DISPENSA DE LICITAÇÃO H O M O L O G A Ç Ã O / R AT I F I C A Ç Ã O Contratada (o): TECNOCRYO GASES - TRANSPORTE, COMÉRCIO, SERVIÇOS E MANUTENÇÕES, IMPORTAÇÃO E EXPORTAÇÃO LTDA; Processo Administrativo: 2143/2020; Objeto: CONTRATAÇÃO EMERGENCIAL PARA SERVIÇOS DE FORNECIMENTO ININTERRUPTO DE GASES MEDICINAIS, COM DISPONIBILIZAÇÃO ONEROSA DE EQUIPAMENTOS E INSTALAÇÕES, PARA ATENDER O CENTRO DE EMERGÊNCIA, NO QUAL SERÁ INSTALADO O CENTRO DE UNIDADE DE TERAPIA INTENSIVA (UTI), PARA COMBATE AO AGRAVAMENTO DA PANDEMIA DO COVID-19, no Município de São João da Barra - RJ, conforme as especificações constantes no Termo de Referência. Contratante: Município de São João da Barra, representado pela Secretaria Municipal de Saúde; Va l o r : R$ 308.850,00 (Trezentos e Oito Mil, Oitocentos e Cinquenta Reais); Dotação Orçamentária: 08021030218252046; Elemento Despesa: 33903900000; Fonte: 18; Ficha: 125; Fundamentação Legal: art. 4°, § 1°, da Lei Federal 13.979/20. São João da Barra, 08 de abril de 2020. ARLENY VALDES ARIAS SECRETÁRIA MUNICIPAL DE SAÚDE Id: 2248183 Município de Varre-Sai PREFEITURA MUNICIPAL AVISO DE LICITAÇÃO TOMADA DE PREÇOS N° 007/2020 PROCESSO N° 1522/2020 A PREFEITURA MUNICIPAL DE VARRE-SAI, torna público que estará realizando licitação na modalidade TOMADA DE PREÇOS TIPO MENOR PREÇO, PELO REGIME DE EMPREITADA POR PREÇO GLOBAL, CUJO OBJETO É A EXECUÇÃO DA OBRA DE REFORMA DE PRÉDIO PÚBLICO PARA FUNCIONAMENTO DA SEDE DA GUARDA MUNICIPAL DE VARRE-SAI A sessão pública ocorrerá no dia 06/05/2020, as 10:30h. O Edital na íntegra está disponível no site www.varresai.rj.gov.br. Maiores informações podem ser obtidas através do e-mail: licitacao@varresai.rj.gov.br e telefone (22) 3843.3532 - Ramal 32. Renato Rosson Martins - Presidente da CPL e Pregoeiro. Id: 2248333 PREFEITURA MUNICIPAL Município de Sapucaia AGETRANSP AGÊNCIA REGULADORA DE SERVEÇOS PLJBLlCOS CONCEDIDOS DE TRANSPORTES AQUAVIÀRIOS, FERROVIÁRIOS E METROViÁRIOS E DE RODOVIAS DO ESTADO DO RIO DE JANEIRO Ouvidoria: 0800 285 9796 De 2a a 6a feira, das 7h às 19h ouvidoria@agetransp.rj.gov.br www.agetransp.rj.gov.br Barcas, Metrô, Trem e Rodovias Estaduais Pcdagladas www.facebook.com/agetransprj www.twitter.com/agetransp DESPACHO DO PREFEITO PROCESSO N.°590_2020.PREGÃO PRESENCIAL 2-2020. Considerando os autos do presente processo, HOMOLOGO o resultado de licitação em epígrafe, cujo objeto aquisição de material para identificação do projeto (banner) a fim de atender as necessidades do núcleo do Programa Segundo Tempo - PST - Padrão, no Município de Sa-pucaia/RJ, sagrando-se vencedor a empresa: DIGRAPEL DISTRIBUIDORA DE PAPEL E GRÁFICA LTDA, inscrita no CNPJ: 27.740.877/0001-75, valor R$480,00 (quatrocentos e oitenta reais), devendo os autos subir à Secretaria de Fazenda para emissão na Nota de Empenho a favor da licitante vencedora. Sapucaia, 30 de março de 2020 Fabricio dos Santos Baião Prefeito Municipal EXTRATO DE CONTRATO N° 21/ 2020 CONTRATANTE: MUNICÍPIO DE SAPUCAIA CNPJ n° 29.138.393/0001-86,Praça Gov. Miguel Couto Filho, n° 240, Centro, Sapucaia/RJ,CONTRATADO: DIGRAPEL DISTRIBUIDORA DE PAPEL E GRÁFICA LTDA,Rua Corina Caiado França, n° 20A22, Coramara, Cachoeiro do Itapemirim, ES,CNPJ: 27.740.877/0001-75, OBJETO: aquisição de material para identificação do projeto (banner) a fim de atender as necessidades do núcleo do Programa Segundo Tempo -PST - Padrão, no Município de Sapucaia/RJ. VALOR:R$480,00 (quatrocentos e oitenta reais). PERÍODO:15(quinze)meses. Id: 2247610'"
      ]
     },
     "execution_count": 24,
     "metadata": {},
     "output_type": "execute_result"
    }
   ],
   "source": [
    "nr_materias=len(indices_Ids)\n",
    "pag_html_str[indices_Ids[0]+11:indices_Ids[nr_materias-1]+11]"
   ]
  },
  {
   "cell_type": "code",
   "execution_count": 27,
   "metadata": {},
   "outputs": [],
   "source": [
    "texto_filtrado=pag_html_str[indices_Ids[0]+11:indices_Ids[nr_materias-1]+11]"
   ]
  },
  {
   "cell_type": "code",
   "execution_count": 40,
   "metadata": {},
   "outputs": [
    {
     "name": "stdout",
     "output_type": "stream",
     "text": [
      "Id: 2248226\n",
      "\n",
      "\n",
      " Município de Pinheiral PREFEITURA MUNICIPAL PREGÃO PRESENCIAL SRP N° 018/2020 Objeto: Aquisição de Medicamentos e insumos constantes no Guia Farmacêutico Brasíndice; Data/Hora: 11/05/2020 às 09:30 horas; Maiores informações e Retirada de Edital: Departamento de Licitações sito a Rua das Acácias, n°. 13 Fundos 2° andar - Bairro: Ipê -Pinheiral. Tel.: (24) 3356-2368 Ramal: 237. E-mail: licitacaopinhei-ral@gmail.com Pregoeiro Titular \n",
      "\n",
      "\n",
      "\n",
      "\n",
      "Id: 2248320\n",
      "\n",
      "\n",
      " PREFEITURA MUNICIPAL Município de Resende PREFEITURA MUNICIPAL DE RESENDE AVISO DE LICITAÇÃO Pregão Eletrônico n° 47/2020 - Objeto: REGISTRO DE PREÇOS de aquisição de biombos em pvc, conforme Edital. Data/Hora: 06/05/2020 às 14:00horas. Processo Administrativo n°: 28.721/2019 -Valor Estimado: R$ 43.500,00.Pregão Eletrônico n° 48/2020 - Objeto: REGISTRO DE PREÇOS de aquisição de reagente para a realização de exames para triagem de Influenza A e B e COVID-19 com cessão gratuita de dois equipamentos para análise de testes imunológicos por fluorescência utilizando o marcador európi-co, com identificação automática dos testes através de QR code, acessórios (calibradores, controle, swab, papel, fita para impressora etc.), pelo período de 12 (doze) meses,conforme Edital. Data/Hora: 06/05/2020 às 15:00horas. Processo Administrativo n°: 8.880/2020 - Valor Estimado: R$ 334.000,00.Pregão Eletrônico n° 50/2020 - Objeto: REGISTRO DE PREÇOS de aquisição de medicamento, conforme Edital. Data/Hora: 07/05/2020 às 14:00horas. Processo Administrativo n°: 2.713/2020 - Valor Estimado: R$ 43.432,80. Edital disponível no site: h ttp: //www. re sen d e. rj. g o v. br/bl o g -transparencia. Informações e questionamentos: Contato e-mail: licita-caosaude.resende@gmail.com - Tel.: (0XX24) 3354-3922. Julio Cezar de Carvalho - Superintendente Municipal de Licitações e Contratos. \n",
      "\n",
      "\n",
      "\n",
      "\n",
      "Id: 2248316\n",
      "\n",
      "\n",
      " PREFEITURA MUNICIPAL DE RESENDE AVISO DE LICITAÇÃO Tomada de preços n° 19/2020 - Objeto: serviço de drenagem de águas pluviais e pavimentação asfáltica, conforme edital Processo Administrativo n° 7.407/2020. Data/Hora: 04/05/2020 as 14:30 horas. Valor Estimado: R$ 113.535,32. Tomada de preços n° 20/2020 - Objeto: reforma geral na quadra da Escola conforme edital Processo Administrativo n° 2.516/2020. Data/Hora: 05/05/2020 as 14:30 horas. Valor Estimado: R$ 332.247,49.Editais disponíveis site: http://www.re-sende.rj.gov.br/blogtransparencia. Contato: e-mail: editais.resen-de@gmail.com ou tel: (024) 3354-4625.Julio Cezar de Carvalho Superintendente Municipal de Licitações e Contratos. \n",
      "\n",
      "\n",
      "\n",
      "\n",
      "Id: 2248321\n",
      "\n",
      "\n",
      " ERRATA E AVISO DE ADIAMENTO Na Edição de 13/04/2020 do Pregão Eletrônico n° 044 - Onde se lê: Número e Ano do processo: 5.194/2019. Leia-se: Número e Ano do processo: 5.194/2020. Edital encontra se disponível no site: h ttp: //www. re sen d e. rj. g ov. br/bl o g tra n sp a ren ci a . Para mais informações e questionamento: Contato: e-mail: licitacaosaude.resen-de@gmail.com ou obtidas através do tel: (0XX24) 3354-3922. Julio Cezar de Carvalho. Superintendente Municipal de Licitações e Contratos. \n",
      "\n",
      "\n",
      "\n",
      "\n",
      "Id: 2247611\n",
      "\n",
      "\n",
      " atender as necessidades do núcleo do Programa Segundo Tempo -PST - Padrão, no Município de Sapucaia/RJ, sagrando-se vencedora a empresa: STAMP COR INDÚSTRIA E COMÉRCIO DE PRODUTOS SEGIGRAFICOS LTDA, CNPJ n° 02.728.331/0001-78, valor R$13.440,00(treze mil, quatrocentos e quarenta reais), devendo os autos subir à Secretaria de Fazenda para emissão na Nota de Empenho a favor da licitante vencedora. Sapucaia, 30 de março de 2020 Fabricio dos Santos Baião Prefeito Municipal EXTRATO DE CONTRATO N° 22/ 2020 CONTRATANTE: MUNICÍPIO DE SAPUCAIA, CNPJ n° 29.138.393/0001-86,Praça Gov. Miguel Couto Filho, n° 240, Centro, Sapucaia/RJ,CONTRATADO: STAMP COR INDUSTRIA E COMÉRCIO DE PRODUTOS SEGIGRAFICOS LTDA, com sede à Rua Manoel Fernandes, 45, Centro, Areal, RJ, inscrita no CNPJ/MF sob o n° 02.728.331/0001-78, OBJETO: aquisição de uniformes, a fim de atender as necessidades do núcleo do Programa Segundo Tempo - PST -Padrão, no Município de Sapucaia/RJ. VALOR: R$13.440,00(treze mil, quatrocentos e quarenta reais), PERÍODO: 15(quinze)meses. \n",
      "\n",
      "\n",
      "\n",
      "\n",
      "Id: 2247612\n",
      "\n",
      "\n",
      " DESPACHO DO PREFEITO PROCESSO N.°598_2020.PREGÃO PRESENCIAL 5_2020. Considerando os autos do presente processo, HOMOLOGO o resultado de licitação em epígrafe, cujo objeto aquisição de material esportivo, a fim de atender as necessidades do núcleo do Programa Segundo Tempo - PST - Padrão, no Município de Sapucaia/RJ, sagrando-se vencedoras as empresas: SION INDÚSTRIA E COMÉRCIO DE PAPEIS LTDA, CNPJ n° 21.618.822/0001-00, valor R$12.618,30(doze mil, seiscentos e dezoito reais e trinta centavos), 100% EMBALAGENS DISTRIBUIDORA ALÉM PARAÍBA LTDA, CNPJ n° 04.168.271/0002-92, VALOR R$12.562,20(doze mil, quinhentos e sessenta e dois reais e vinte centavos), 3B COMERCIAL EIRELI - ME, CNPJ n° 30.703.806/0001-07, valor R$12.660,00 (doze mil, seiscentos e sessenta reais) e JOSIANE POCIDONIO PEREIRA EIRELI - EPP, CNPJ n° 35.496.391/0001-61, valor R$15.419,00(quinze mil, quatrocentos e dezenove reais), devendo os autos subir à Secretaria de Fazenda para emissão na Nota de Empenho a favor das licitantes vencedoras. Sapucaia, 30 de março de 2020 Fabricio dos Santos Baião Prefeito Municipal EXTRATO DE CONTRATO N° 24/ 2020 CONTRATANTE: MUNICÍPIO DE SAPUCAIA CNPJ n° 29.138.393/0001-86,Praça Gov. Miguel Couto Filho, n° 240, Centro, Sapucaia/RJ,CONTRATADO: 100% EMBALAGENS DISTRIBUIDORA ALÉM PARAÍBA LTDA, com sede à Av. Cotril, 1904, Jamapará, Sa-pucaia/RJ, inscrita no CNPJ/MF sob o n° 04.168.271/0002-92, OBJE-TO:aquisição de material esportivo, a fim de atender as necessidades do núcleo do Programa Segundo Tempo - PST - Padrão, no Município de Sapucaia/RJ. VALOR: R$12.562,20(doze mil, quinhentos e sessenta e dois reais e vinte centavos),PERíODO:15(quinze)meses. EXTRATO DE CONTRATO N° 23/ 2020 CONTRATANTE: MUNICÍPIO DE SAPUCAIA CNPJ n° 29.138.393/0001-86,Praça Gov. Miguel Couto Filho, n° 240, Centro, Sapucaia/RJ,CONTRATADO: SION INDÚSTRIA E COMÉRCIO DE PA-PEIS LTDA, com sede à Rua Barbosa Lima, n.°185, Centro, Juiz de Fora/MG, inscrita no CNPJ/MF sob o n° 21.618.822/0001-00, OBJE-TO:aquisição de material esportivo, a fim de atender as necessidades do núcleo do Programa Segundo Tempo - PST - Padrão, no Município de Sapucaia/RJ. VALOR: R$12.618,30(doze mil, seiscentos e dezoito reais e trinta centavos).PERÍODO:15(quinze)meses. EXTRATO DE CONTRATO N° 25/ 2020 CONTRATANTE: MUNICÍPIO DE SAPUCAIA CNPJ n° 29.138.393/0001-86,Praça Gov. Miguel Couto Filho, n° 240, Centro, Sapucaia/RJ,CONTRATADO: 3B COMERCIAL EIRELI - ME, com sede à Rua Maria da Silva Machareth, 45 - Influência - Carmo/RJ, inscrita no CNPJ/MF sob o n° 30.703.806/0001-07, OBJETO: aquisição de material esportivo, a fim de atender as necessidades do núcleo do Programa Segundo Tempo - PST - Padrão, no Município de Sapu-caia/RJ. VALOR: R$12.660,00(doze mil, seiscentos e sessenta reais). PERÍODO: 15(quinze)meses. EXTRATO DE CONTRATO N° 26/ 2020 CONTRATANTE: MUNICÍPIO DE SAPUCAIA CNPJ n° 29.138.393/0001-86,Praça Gov. Miguel Couto Filho, n° 240, Centro, Sapucaia/RJ,CONTRATADO: JOSIANE POCIDONIO PEREIRA EIRELI - EPP, com sede à Rua Isaura Maia de Souza, 235, Loja 1 - Ave Maria - Carmo/RJ, inscrita no CNPJ/MF sob o n° 35.496.391/0001-61, OBJETO:aquisição de material esportivo, a fim de atender as necessidades do núcleo do Programa Segundo Tempo - PST - Padrão, no Município de Sapucaia/RJ. VALOR: R$15.419,00(quinze mil, quatrocentos e dezenove reais).PERÍODO:15(quinze)meses. \n",
      "\n",
      "\n",
      "\n",
      "\n",
      "Id: 2247613\n",
      "\n",
      "\n",
      " EXTRATO DE CONTRATO N° 20_2020 CONTRATANTE: MUNICÍPIO DE SAPUCAIA,CNPJ n° 29.138.393/0001-86,Praça Gov. Miguel Couto Filho, n° 240, Centro, Sapucaia/RJ,CONTRATADO:AG NETO ARQUITETURA E CONSTRUÇÃO LTDA-EPP,Rua Moreira dos Santos, 848, parte, Centro, Barra do Pirai - RJ,CNPJ n°10.785.639/0001-83, OBJETO: Contratação de empresa especializada objetivando Implantação, sob regime de empreitada, de Calçadão no Município de Sapucaia/RJ, TOMADA DE PREÇOS N.° 1_2020 e anexos.VALOR:R$ 277.997,02(duzentos e setenta e sete mil, novecentos e noventa e sete reais e dois centavos).PE-RÍODO:08(oito)meses TERMO DE HOMOLOGAÇÃO E ADJUDICAÇÃO O Prefeito Municipal de Sapucaia, no uso de suas atribuições legais e, com fundamento no inciso VI, do art. 43, da Lei 8.666/93 e alterações, em conformidade com o que consta no Processo n.° 368/2020, HOMOLOGA a Licitação na modalidade Tomada de Preço n.° 1/2020, e ADJUDICA à empresa AG NETO ARQUITETURA E CONSTRUÇÃO LTDA-EPP, com sede à Rua Moreira dos Santos, 848, parte, Centro, Barra do Pirai - RJ, inscrita no CNPJ/MF sob o n°10.785.639/0001-83, que tem por objeto a Contratação de empresa especializada objetivando Implantação, sob regime de empreitada, de Calçadão no Município de Sapucaia/RJ. Sapucaia, 30 de março de 2020. Fabrício dos Santos Baião Prefeito Municipal \n",
      "\n",
      "\n",
      "\n",
      "\n",
      "Id: 2248183\n",
      "\n",
      "\n",
      " Município de São João da Barra PREFEITURA MUNICIPAL DISPENSA DE LICITAÇÃO H O M O L O G A Ç Ã O / R AT I F I C A Ç Ã O Contratada (o): TECNOCRYO GASES - TRANSPORTE, COMÉRCIO, SERVIÇOS E MANUTENÇÕES, IMPORTAÇÃO E EXPORTAÇÃO LTDA; Processo Administrativo: 2143/2020; Objeto: CONTRATAÇÃO EMERGENCIAL PARA SERVIÇOS DE FORNECIMENTO ININTERRUPTO DE GASES MEDICINAIS, COM DISPONIBILIZAÇÃO ONEROSA DE EQUIPAMENTOS E INSTALAÇÕES, PARA ATENDER O CENTRO DE EMERGÊNCIA, NO QUAL SERÁ INSTALADO O CENTRO DE UNIDADE DE TERAPIA INTENSIVA (UTI), PARA COMBATE AO AGRAVAMENTO DA PANDEMIA DO COVID-19, no Município de São João da Barra - RJ, conforme as especificações constantes no Termo de Referência. Contratante: Município de São João da Barra, representado pela Secretaria Municipal de Saúde; Va l o r : R$ 308.850,00 (Trezentos e Oito Mil, Oitocentos e Cinquenta Reais); Dotação Orçamentária: 08021030218252046; Elemento Despesa: 33903900000; Fonte: 18; Ficha: 125; Fundamentação Legal: art. 4°, § 1°, da Lei Federal 13.979/20. São João da Barra, 08 de abril de 2020. ARLENY VALDES ARIAS SECRETÁRIA MUNICIPAL DE SAÚDE \n",
      "\n",
      "\n",
      "\n",
      "\n",
      "Id: 2248333\n",
      "\n",
      "\n",
      " Município de Varre-Sai PREFEITURA MUNICIPAL AVISO DE LICITAÇÃO TOMADA DE PREÇOS N° 007/2020 PROCESSO N° 1522/2020 A PREFEITURA MUNICIPAL DE VARRE-SAI, torna público que estará realizando licitação na modalidade TOMADA DE PREÇOS TIPO MENOR PREÇO, PELO REGIME DE EMPREITADA POR PREÇO GLOBAL, CUJO OBJETO É A EXECUÇÃO DA OBRA DE REFORMA DE PRÉDIO PÚBLICO PARA FUNCIONAMENTO DA SEDE DA GUARDA MUNICIPAL DE VARRE-SAI A sessão pública ocorrerá no dia 06/05/2020, as 10:30h. O Edital na íntegra está disponível no site www.varresai.rj.gov.br. Maiores informações podem ser obtidas através do e-mail: licitacao@varresai.rj.gov.br e telefone (22) 3843.3532 - Ramal 32. Renato Rosson Martins - Presidente da CPL e Pregoeiro. \n",
      "\n",
      "\n",
      "\n",
      "\n",
      "Id: 2247610\n",
      "\n",
      "\n",
      " PREFEITURA MUNICIPAL Município de Sapucaia AGETRANSP AGÊNCIA REGULADORA DE SERVEÇOS PLJBLlCOS CONCEDIDOS DE TRANSPORTES AQUAVIÀRIOS, FERROVIÁRIOS E METROViÁRIOS E DE RODOVIAS DO ESTADO DO RIO DE JANEIRO Ouvidoria: 0800 285 9796 De 2a a 6a feira, das 7h às 19h ouvidoria@agetransp.rj.gov.br www.agetransp.rj.gov.br Barcas, Metrô, Trem e Rodovias Estaduais Pcdagladas www.facebook.com/agetransprj www.twitter.com/agetransp DESPACHO DO PREFEITO PROCESSO N.°590_2020.PREGÃO PRESENCIAL 2-2020. Considerando os autos do presente processo, HOMOLOGO o resultado de licitação em epígrafe, cujo objeto aquisição de material para identificação do projeto (banner) a fim de atender as necessidades do núcleo do Programa Segundo Tempo - PST - Padrão, no Município de Sa-pucaia/RJ, sagrando-se vencedor a empresa: DIGRAPEL DISTRIBUIDORA DE PAPEL E GRÁFICA LTDA, inscrita no CNPJ: 27.740.877/0001-75, valor R$480,00 (quatrocentos e oitenta reais), devendo os autos subir à Secretaria de Fazenda para emissão na Nota de Empenho a favor da licitante vencedora. Sapucaia, 30 de março de 2020 Fabricio dos Santos Baião Prefeito Municipal EXTRATO DE CONTRATO N° 21/ 2020 CONTRATANTE: MUNICÍPIO DE SAPUCAIA CNPJ n° 29.138.393/0001-86,Praça Gov. Miguel Couto Filho, n° 240, Centro, Sapucaia/RJ,CONTRATADO: DIGRAPEL DISTRIBUIDORA DE PAPEL E GRÁFICA LTDA,Rua Corina Caiado França, n° 20A22, Coramara, Cachoeiro do Itapemirim, ES,CNPJ: 27.740.877/0001-75, OBJETO: aquisição de material para identificação do projeto (banner) a fim de atender as necessidades do núcleo do Programa Segundo Tempo -PST - Padrão, no Município de Sapucaia/RJ. VALOR:R$480,00 (quatrocentos e oitenta reais). PERÍODO:15(quinze)meses. \n",
      "\n",
      "\n",
      "\n",
      "\n"
     ]
    },
    {
     "ename": "IndexError",
     "evalue": "list index out of range",
     "output_type": "error",
     "traceback": [
      "\u001b[0;31m---------------------------------------------------------------------------\u001b[0m",
      "\u001b[0;31mIndexError\u001b[0m                                Traceback (most recent call last)",
      "\u001b[0;32m<ipython-input-40-d34776648130>\u001b[0m in \u001b[0;36m<module>\u001b[0;34m\u001b[0m\n\u001b[1;32m      1\u001b[0m \u001b[0;32mfor\u001b[0m \u001b[0mi\u001b[0m \u001b[0;32min\u001b[0m \u001b[0mrange\u001b[0m\u001b[0;34m(\u001b[0m\u001b[0;36m0\u001b[0m\u001b[0;34m,\u001b[0m\u001b[0mlen\u001b[0m\u001b[0;34m(\u001b[0m\u001b[0mindices_Ids\u001b[0m\u001b[0;34m)\u001b[0m\u001b[0;34m)\u001b[0m\u001b[0;34m:\u001b[0m \u001b[0;31m#desconsidera a matéria com id localizado na posição 0, pois ela está incompleta\u001b[0m\u001b[0;34m\u001b[0m\u001b[0;34m\u001b[0m\u001b[0m\n\u001b[0;32m----> 2\u001b[0;31m     \u001b[0mprint\u001b[0m\u001b[0;34m(\u001b[0m\u001b[0mpag_html_str\u001b[0m\u001b[0;34m[\u001b[0m\u001b[0mindices_Ids\u001b[0m\u001b[0;34m[\u001b[0m\u001b[0mi\u001b[0m\u001b[0;34m+\u001b[0m\u001b[0;36m1\u001b[0m\u001b[0;34m]\u001b[0m\u001b[0;34m:\u001b[0m\u001b[0mindices_Ids\u001b[0m\u001b[0;34m[\u001b[0m\u001b[0mi\u001b[0m\u001b[0;34m+\u001b[0m\u001b[0;36m1\u001b[0m\u001b[0;34m]\u001b[0m\u001b[0;34m+\u001b[0m\u001b[0;36m11\u001b[0m\u001b[0;34m]\u001b[0m\u001b[0;34m)\u001b[0m\u001b[0;34m\u001b[0m\u001b[0;34m\u001b[0m\u001b[0m\n\u001b[0m\u001b[1;32m      3\u001b[0m     \u001b[0mprint\u001b[0m\u001b[0;34m(\u001b[0m\u001b[0;34m'\\n'\u001b[0m\u001b[0;34m)\u001b[0m\u001b[0;34m\u001b[0m\u001b[0;34m\u001b[0m\u001b[0m\n\u001b[1;32m      4\u001b[0m     \u001b[0mprint\u001b[0m\u001b[0;34m(\u001b[0m\u001b[0mpag_html_str\u001b[0m\u001b[0;34m[\u001b[0m\u001b[0mindices_Ids\u001b[0m\u001b[0;34m[\u001b[0m\u001b[0mi\u001b[0m\u001b[0;34m]\u001b[0m\u001b[0;34m+\u001b[0m\u001b[0;36m11\u001b[0m\u001b[0;34m:\u001b[0m\u001b[0mindices_Ids\u001b[0m\u001b[0;34m[\u001b[0m\u001b[0mi\u001b[0m\u001b[0;34m+\u001b[0m\u001b[0;36m1\u001b[0m\u001b[0;34m]\u001b[0m\u001b[0;34m]\u001b[0m\u001b[0;34m)\u001b[0m\u001b[0;34m\u001b[0m\u001b[0;34m\u001b[0m\u001b[0m\n\u001b[1;32m      5\u001b[0m     \u001b[0mprint\u001b[0m\u001b[0;34m(\u001b[0m\u001b[0;34m'\\n\\n\\n'\u001b[0m\u001b[0;34m)\u001b[0m\u001b[0;34m\u001b[0m\u001b[0;34m\u001b[0m\u001b[0m\n",
      "\u001b[0;31mIndexError\u001b[0m: list index out of range"
     ]
    }
   ],
   "source": [
    "for i in range(0,len(indices_Ids)): #desconsidera a matéria com id localizado na posição 0, pois ela está incompleta\n",
    "    print(pag_html_str[indices_Ids[i+1]:indices_Ids[i+1]+11])\n",
    "    print('\\n')\n",
    "    print(pag_html_str[indices_Ids[i]+11:indices_Ids[i+1]])\n",
    "    print('\\n\\n\\n')"
   ]
  },
  {
   "cell_type": "code",
   "execution_count": null,
   "metadata": {},
   "outputs": [],
   "source": []
  }
 ],
 "metadata": {
  "kernelspec": {
   "display_name": "Python 3",
   "language": "python",
   "name": "python3"
  },
  "language_info": {
   "codemirror_mode": {
    "name": "ipython",
    "version": 3
   },
   "file_extension": ".py",
   "mimetype": "text/x-python",
   "name": "python",
   "nbconvert_exporter": "python",
   "pygments_lexer": "ipython3",
   "version": "3.7.7"
  }
 },
 "nbformat": 4,
 "nbformat_minor": 4
}
