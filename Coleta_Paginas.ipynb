{
 "cells": [
  {
   "cell_type": "markdown",
   "metadata": {},
   "source": [
    "# Coletor de Páginas"
   ]
  },
  {
   "cell_type": "code",
   "execution_count": 1,
   "metadata": {},
   "outputs": [],
   "source": [
    "import requests as rq\n",
    "import bs4\n",
    "import time\n",
    "url=\"https://www.escavador.com/diarios/3224665/DOERJ/municipalidades/{dia}?page={pagina}\"    #formato do dia -> 2020-04-17"
   ]
  },
  {
   "cell_type": "code",
   "execution_count": 2,
   "metadata": {},
   "outputs": [
    {
     "name": "stdout",
     "output_type": "stream",
     "text": [
      "https://www.escavador.com/diarios/3224665/DOERJ/municipalidades/2020-04-17?page=1\n",
      "https://www.escavador.com/diarios/3224665/DOERJ/municipalidades/2020-04-17?page=2\n"
     ]
    }
   ],
   "source": [
    "#busca a 1ª página de matérias do dia, e \n",
    "dia=\"2020-04-17\"\n",
    "pagina=1\n",
    "urll=url.format(dia=dia,pagina=pagina)\n",
    "print(urll)\n",
    "response=rq.get(urll)\n",
    "with open(\"./dados_brutos_html/dia_{}_pagina_{}.html\".format(dia,pagina),'w+',encoding=\"utf-8\") as output:\n",
    "    output.write(response.text)\n",
    "time.sleep(2) # espera um tempo de 2 segundos antes de fazer novas requisições\n",
    "\n",
    "#verifica o número total de páginas de matérias do referido dia\n",
    "parsed = bs4.BeautifulSoup(response.text,\"html.parser\")\n",
    "tags=parsed.find_all(\"a\",attrs={\"class\":\"page-link\"}) #busca todas as tags para as próximas páginas do dia. Logo o número total de páginas será igual ao número de links\n",
    "total_pag_dia=len(tags)\n",
    "\n",
    "#faz requisições para as demais páginas de matéria do dia (da página 2 até o número total de páginas), e salva essas páginas\n",
    "for pagina in range(2,total_pag_dia+1):\n",
    "    urll=url.format(dia=dia,pagina=pagina)\n",
    "    print(urll)\n",
    "    response=rq.get(urll)\n",
    "    \n",
    "    with open(\"./dados_brutos_html/dia_{}_pagina_{}.html\".format(dia,pagina),'w+',encoding=\"utf-8\") as output:\n",
    "        output.write(response.text)\n",
    "    time.sleep(2) # espera um tempo de 2 segundos antes de fazer novas requisições"
   ]
  }
 ],
 "metadata": {
  "kernelspec": {
   "display_name": "Python 3",
   "language": "python",
   "name": "python3"
  },
  "language_info": {
   "codemirror_mode": {
    "name": "ipython",
    "version": 3
   },
   "file_extension": ".py",
   "mimetype": "text/x-python",
   "name": "python",
   "nbconvert_exporter": "python",
   "pygments_lexer": "ipython3",
   "version": "3.6.3"
  }
 },
 "nbformat": 4,
 "nbformat_minor": 4
}
