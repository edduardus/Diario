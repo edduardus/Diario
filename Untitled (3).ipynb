{
 "cells": [
  {
   "cell_type": "code",
   "execution_count": 4,
   "metadata": {},
   "outputs": [],
   "source": [
    "import requests as rq\n",
    "import bs4\n",
    "import time\n",
    "url=\"https://www.escavador.com/diarios/3224665/DOERJ/municipalidades/{dia}?page={pagina}\"    #formato do dia -> 2020-04-17"
   ]
  },
  {
   "cell_type": "code",
   "execution_count": 5,
   "metadata": {},
   "outputs": [
    {
     "name": "stdout",
     "output_type": "stream",
     "text": [
      "https://www.escavador.com/diarios/3224665/DOERJ/municipalidades/2020-04-17?page=1\n"
     ]
    },
    {
     "name": "stderr",
     "output_type": "stream",
     "text": [
      "/home/epaiva/anaconda3/lib/python3.6/site-packages/bs4/__init__.py:181: UserWarning: No parser was explicitly specified, so I'm using the best available HTML parser for this system (\"lxml\"). This usually isn't a problem, but if you run this code on another system, or in a different virtual environment, it may use a different parser and behave differently.\n",
      "\n",
      "The code that caused this warning is on line 193 of the file /home/epaiva/anaconda3/lib/python3.6/runpy.py. To get rid of this warning, change code that looks like this:\n",
      "\n",
      " BeautifulSoup(YOUR_MARKUP})\n",
      "\n",
      "to this:\n",
      "\n",
      " BeautifulSoup(YOUR_MARKUP, \"lxml\")\n",
      "\n",
      "  markup_type=markup_type))\n"
     ]
    }
   ],
   "source": [
    "#busca a 1ª página de matérias do dia, e \n",
    "dia=\"2020-04-17\"\n",
    "pagina=1\n",
    "urll=url.format(dia=dia,pagina=pagina)\n",
    "print(urll)\n",
    "response=rq.get(urll)\n",
    "with open(\"./dados_brutos_html/dia_{}_pagina_{}.html\".format(dia,pagina),'w+',encoding=\"utf-8\") as output:\n",
    "    output.write(response.text)\n",
    "time.sleep(2) # espera um tempo de 2 segundos antes de fazer novas requisições\n",
    "\n",
    "#verifica o número total de páginas de matérias do referido dia\n",
    "parsed = bs4.BeautifulSoup(response.text,\"html.parser\")\n",
    "tags=parsed.find_all(\"a\",attrs={\"class\":\"page-link\"}) #busca todas as tags para as próximas páginas do dia. Logo o número total de páginas será igual ao número de links\n",
    "total_pag_dia=len(tags)\n",
    "\n",
    "#faz requisições para as demais páginas de matéria do dia (da página 2 até o número total de páginas), e salva essas páginas\n",
    "for pagina in range(2,total_pag_dia+1):\n",
    "    urll=url.format(dia=dia,pagina=pagina)\n",
    "    print(urll)\n",
    "    response=rq.get(urll)\n",
    "    \n",
    "    with open(\"./dados_brutos_html/dia_{}_pagina_{}.html\".format(dia,pagina),'w+',encoding=\"utf-8\") as output:\n",
    "        output.write(response.text)\n",
    "    time.sleep(2) # espera um tempo de 2 segundos antes de fazer novas requisições"
   ]
  },
  {
   "cell_type": "code",
   "execution_count": 10,
   "metadata": {},
   "outputs": [
    {
     "name": "stdout",
     "output_type": "stream",
     "text": [
      "https://www.escavador.com/diarios/3224665/DOERJ/municipalidades/2020-04-17?page=2\n"
     ]
    }
   ],
   "source": [
    "parsed = bs4.BeautifulSoup(response.text,\"html.parser\")\n",
    "tags=parsed.find_all(\"a\",attrs={\"class\":\"page-link\"}) #busca todas as tags para as próximas páginas do dia. Logo o número total de páginas será igual ao número de links\n",
    "total_pag_dia=len(tags)\n",
    "\n",
    "#faz requisições para as demais páginas de matéria do dia (da página 2 até o número total de páginas), e salva essas páginas\n",
    "for pagina in range(2,total_pag_dia+1):\n",
    "    urll=url.format(dia=dia,pagina=pagina)\n",
    "    print(urll)\n",
    "    response=rq.get(urll)\n",
    "    \n",
    "    with open(\"./dados_brutos_html/dia_{}_pagina_{}.html\".format(dia,pagina),'w+',encoding=\"utf-8\") as output:\n",
    "        output.write(response.text)\n",
    "    time.sleep(2) # espera um tempo de 2 segundos antes de fazer novas requisições"
   ]
  },
  {
   "cell_type": "code",
   "execution_count": 9,
   "metadata": {},
   "outputs": [
    {
     "data": {
      "text/plain": [
       "2"
      ]
     },
     "execution_count": 9,
     "metadata": {},
     "output_type": "execute_result"
    }
   ],
   "source": [
    "parsed = bs4.BeautifulSoup(response.text,\"html.parser\")\n",
    "tags=parsed.find_all(\"a\",attrs={\"class\":\"page-link\"}) #busca todas as tags para as próximas páginas do dia. Logo o número total de páginas será igual ao número de links\n",
    "total_pag_dia=len(tags)\n",
    "total_pag_dia"
   ]
  },
  {
   "cell_type": "code",
   "execution_count": null,
   "metadata": {},
   "outputs": [],
   "source": [
    "#faz requisições para as demais páginas de matéria do dia (da página 2 até o número total de páginas), e salva essas páginas\n",
    "for pagina in range(2,total_pag_dia):\n",
    "    urll=url.format(dia=dia,pagina=pagina)\n",
    "    print(urll)\n",
    "    response=rq.get(urll)\n",
    "    \n",
    "    with open(\"./dados_brutos_html/{}_{}.html\".format(dia,pagina)):\n",
    "        output.write(response.text)\n",
    "    time.sleep(2) # espera um tempo de 2 segundos antes de fazer novas requisições"
   ]
  },
  {
   "cell_type": "code",
   "execution_count": null,
   "metadata": {},
   "outputs": [],
   "source": [
    "for tag in tags:\n",
    "                if tag.has_attr(\"aria-describedby\"):\n",
    "                    link=tag[\"href\"]\n",
    "                    title=tag[\"title\"]"
   ]
  },
  {
   "cell_type": "code",
   "execution_count": 8,
   "metadata": {},
   "outputs": [],
   "source": [
    "#response.text"
   ]
  },
  {
   "cell_type": "code",
   "execution_count": null,
   "metadata": {},
   "outputs": [],
   "source": []
  }
 ],
 "metadata": {
  "kernelspec": {
   "display_name": "Python 3",
   "language": "python",
   "name": "python3"
  },
  "language_info": {
   "codemirror_mode": {
    "name": "ipython",
    "version": 3
   },
   "file_extension": ".py",
   "mimetype": "text/x-python",
   "name": "python",
   "nbconvert_exporter": "python",
   "pygments_lexer": "ipython3",
   "version": "3.7.7"
  }
 },
 "nbformat": 4,
 "nbformat_minor": 4
}
