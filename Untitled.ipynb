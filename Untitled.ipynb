{
 "cells": [
  {
   "cell_type": "code",
   "execution_count": null,
   "metadata": {},
   "outputs": [],
   "source": []
  },
  {
   "cell_type": "code",
   "execution_count": 2,
   "metadata": {},
   "outputs": [],
   "source": [
    "import bs4"
   ]
  },
  {
   "cell_type": "code",
   "execution_count": 4,
   "metadata": {},
   "outputs": [],
   "source": [
    "dia=\"2020-04-17\"\n",
    "pagina=1\n",
    "with open(\"./dados_brutos_html/dia_{}_pagina_{}.html\".format(dia,pagina),'r+',encoding=\"utf-8\") as inp:\n",
    "    page_html = inp.read()\n",
    "    parsed = bs4.BeautifulSoup(page_html,\"html.parser\")\n",
    "    tags=parsed.find_all(\"h6\",attrs={\"style\":\"text-indent:8pt;\"}) #busca todas as tags para as próximas páginas do dia. Logo o número total de páginas será igual ao número de links\n",
    "    total_pag_dia=len(tags)"
   ]
  },
  {
   "cell_type": "code",
   "execution_count": 5,
   "metadata": {},
   "outputs": [
    {
     "data": {
      "text/plain": [
       "6"
      ]
     },
     "execution_count": 5,
     "metadata": {},
     "output_type": "execute_result"
    }
   ],
   "source": [
    "total_pag_dia"
   ]
  },
  {
   "cell_type": "code",
   "execution_count": 6,
   "metadata": {},
   "outputs": [
    {
     "data": {
      "text/plain": [
       "[<h6 style=\"text-indent:8pt;\"><font style=\"font-size:medium;font-family:Times New Roman, serif;font-weight:bold;color:#231F20;\">Município de Araruama</font></h6>,\n",
       " <h6 style=\"text-indent:8pt;\"><font style=\"font-size:medium;font-family:Times New Roman, serif;font-weight:bold;color:#231F20;\">Município de Itaguaí</font></h6>,\n",
       " <h6 style=\"text-indent:8pt;\"><font style=\"font-size:medium;font-family:Times New Roman, serif;font-weight:bold;color:#231F20;\">Município de Barra Mansa</font></h6>,\n",
       " <h6 style=\"text-indent:8pt;\"><font style=\"font-size:medium;font-family:Times New Roman, serif;font-weight:bold;color:#231F20;\">Município de Macaé </font><font style=\"font-size:medium;font-family:Times New Roman, serif;font-weight:bold;\">____________________________________________</font></h6>,\n",
       " <h6 style=\"text-indent:8pt;\"><font style=\"font-size:medium;font-family:Times New Roman, serif;font-weight:bold;color:#231F20;\">Município de Mangaratiba</font></h6>,\n",
       " <h6 style=\"text-indent:8pt;\"><font style=\"font-size:medium;font-family:Times New Roman, serif;font-weight:bold;color:#231F20;\">Município de Nilópolis</font></h6>]"
      ]
     },
     "execution_count": 6,
     "metadata": {},
     "output_type": "execute_result"
    }
   ],
   "source": [
    "tags"
   ]
  },
  {
   "cell_type": "code",
   "execution_count": 7,
   "metadata": {},
   "outputs": [
    {
     "data": {
      "text/plain": [
       "bs4.element.ResultSet"
      ]
     },
     "execution_count": 7,
     "metadata": {},
     "output_type": "execute_result"
    }
   ],
   "source": [
    "type(tags)"
   ]
  },
  {
   "cell_type": "code",
   "execution_count": null,
   "metadata": {},
   "outputs": [],
   "source": []
  }
 ],
 "metadata": {
  "kernelspec": {
   "display_name": "Python 3",
   "language": "python",
   "name": "python3"
  },
  "language_info": {
   "codemirror_mode": {
    "name": "ipython",
    "version": 3
   },
   "file_extension": ".py",
   "mimetype": "text/x-python",
   "name": "python",
   "nbconvert_exporter": "python",
   "pygments_lexer": "ipython3",
   "version": "3.6.3"
  }
 },
 "nbformat": 4,
 "nbformat_minor": 4
}
